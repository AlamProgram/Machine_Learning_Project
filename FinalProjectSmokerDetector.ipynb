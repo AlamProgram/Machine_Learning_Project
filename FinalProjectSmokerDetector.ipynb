{
  "cells": [
    {
      "cell_type": "markdown",
      "metadata": {
        "id": "view-in-github",
        "colab_type": "text"
      },
      "source": [
        "<a href=\"https://colab.research.google.com/github/AlamProgram/Machine_Learning_Project/blob/main/FinalProjectSmokerDetector.ipynb\" target=\"_parent\"><img src=\"https://colab.research.google.com/assets/colab-badge.svg\" alt=\"Open In Colab\"/></a>"
      ]
    },
    {
      "cell_type": "markdown",
      "metadata": {
        "id": "Wn0PPJou7u_a"
      },
      "source": [
        "#1. Import Library & Load Data"
      ]
    },
    {
      "cell_type": "code",
      "execution_count": null,
      "metadata": {
        "id": "SaqfBwFl6q91"
      },
      "outputs": [],
      "source": [
        "import numpy as np\n",
        "import pandas as pd\n",
        "import matplotlib.pyplot as plt\n",
        "import seaborn as sns"
      ]
    },
    {
      "cell_type": "code",
      "execution_count": null,
      "metadata": {
        "id": "E_VXW_LKg--C"
      },
      "outputs": [],
      "source": [
        "# Mengatur opsi untuk menampilkan semua kolom\n",
        "pd.set_option('display.max_columns', None)"
      ]
    },
    {
      "cell_type": "code",
      "execution_count": null,
      "metadata": {
        "id": "WE1-Z-SvesNm"
      },
      "outputs": [],
      "source": [
        "#mount drive\n",
        "from google.colab import drive\n",
        "drive.mount('/content/drive')"
      ]
    },
    {
      "cell_type": "code",
      "execution_count": null,
      "metadata": {
        "id": "NJiNl2E3e5w-"
      },
      "outputs": [],
      "source": [
        "df = pd.read_csv('/content/drive/MyDrive/2. Mechine Learning/Kelas ML/PROJECT/FINAL Project: Smoker Detector/playground-series-s3e24/train.csv')"
      ]
    },
    {
      "cell_type": "code",
      "execution_count": null,
      "metadata": {
        "id": "0q9r02S3f6te"
      },
      "outputs": [],
      "source": [
        "df.head()"
      ]
    },
    {
      "cell_type": "markdown",
      "metadata": {
        "id": "kOKLR_ICis_Q"
      },
      "source": [
        "Cek Mising Value"
      ]
    },
    {
      "cell_type": "code",
      "execution_count": null,
      "metadata": {
        "id": "7WAeSz8kirmu"
      },
      "outputs": [],
      "source": [
        "df.info()"
      ]
    },
    {
      "cell_type": "markdown",
      "metadata": {
        "id": "ntNd0ftSjcOv"
      },
      "source": [
        "Info:\n",
        "1. no missing value\n"
      ]
    },
    {
      "cell_type": "markdown",
      "metadata": {
        "id": "t_k6bTiF8u9k"
      },
      "source": [
        "Drop ID"
      ]
    },
    {
      "cell_type": "code",
      "execution_count": null,
      "metadata": {
        "id": "CNupDu3t8uXY"
      },
      "outputs": [],
      "source": [
        "df  = df.drop(columns=['id'])"
      ]
    },
    {
      "cell_type": "code",
      "execution_count": null,
      "metadata": {
        "id": "WDHD7TMWwU8x"
      },
      "outputs": [],
      "source": [
        "df.info()"
      ]
    },
    {
      "cell_type": "markdown",
      "metadata": {
        "id": "VxOQ1rP-wDwg"
      },
      "source": [
        "Drop Duplicate"
      ]
    },
    {
      "cell_type": "code",
      "execution_count": null,
      "metadata": {
        "id": "WbqZ3vmcwG_e"
      },
      "outputs": [],
      "source": [
        "df = df.drop_duplicates()"
      ]
    },
    {
      "cell_type": "code",
      "execution_count": null,
      "metadata": {
        "id": "jwb1T1Usbi5F"
      },
      "outputs": [],
      "source": [
        "df.info()"
      ]
    },
    {
      "cell_type": "markdown",
      "metadata": {
        "id": "An_txrNbjuse"
      },
      "source": [
        "Cek Proporsi 1 dan 0"
      ]
    },
    {
      "cell_type": "code",
      "execution_count": null,
      "metadata": {
        "id": "O10JMaG3jP1n"
      },
      "outputs": [],
      "source": [
        "df_smoker_precentage = df['smoking'].value_counts()\n",
        "df_smoker_precentage"
      ]
    },
    {
      "cell_type": "code",
      "execution_count": null,
      "metadata": {
        "id": "2p7ipCf9kvH1"
      },
      "outputs": [],
      "source": [
        "plt.figure(figsize=(6, 6))\n",
        "plt.pie(df_smoker_precentage, labels=['Non-Smoker', 'Smoker'], autopct='%1.1f%%', startangle=90)\n",
        "plt.title('Proporsi Non-Smoker dan Smoker')\n",
        "plt.show()"
      ]
    },
    {
      "cell_type": "markdown",
      "metadata": {
        "id": "QYklwF4dsSGu"
      },
      "source": [
        "Info:\n",
        "1. no need balancing"
      ]
    },
    {
      "cell_type": "markdown",
      "metadata": {
        "id": "maFrDr7TzbYc"
      },
      "source": [
        "#Train Temp Split"
      ]
    },
    {
      "cell_type": "code",
      "execution_count": null,
      "metadata": {
        "id": "W-oCT05i0hgo"
      },
      "outputs": [],
      "source": [
        "from sklearn.model_selection import train_test_split"
      ]
    },
    {
      "cell_type": "code",
      "execution_count": null,
      "metadata": {
        "id": "5Do1TalP2Ygf"
      },
      "outputs": [],
      "source": [
        "# Pisahkan data menjadi data train dan data temp (gabungan validasi dan test)\n",
        "df_train, df_temp = train_test_split(df, test_size=0.3, random_state=42, shuffle=True)\n",
        "\n",
        "# Sekarang Anda memiliki:\n",
        "# df_train: DataFrame yang hanya berisi data training\n",
        "# df_temp: DataFrame yang berisi gabungan data validasi dan test\n"
      ]
    },
    {
      "cell_type": "markdown",
      "metadata": {
        "id": "CKBbgUfE0okU"
      },
      "source": [
        "# EDA & Feature Enginering"
      ]
    },
    {
      "cell_type": "markdown",
      "metadata": {
        "id": "X0tGbsd2mfn3"
      },
      "source": [
        "## Age"
      ]
    },
    {
      "cell_type": "code",
      "execution_count": null,
      "metadata": {
        "id": "GXQv31wy01Nn"
      },
      "outputs": [],
      "source": [
        "df_train.info()"
      ]
    },
    {
      "cell_type": "code",
      "execution_count": null,
      "metadata": {
        "collapsed": true,
        "id": "ETiCE4CuAan8"
      },
      "outputs": [],
      "source": [
        "# Menghitung jumlah perokok untuk setiap kelompok usia\n",
        "smokers_per_age = df_train.groupby('age')['smoking'].sum()\n",
        "smokers_per_age"
      ]
    },
    {
      "cell_type": "code",
      "execution_count": null,
      "metadata": {
        "collapsed": true,
        "id": "ljPWE-3FAlrk"
      },
      "outputs": [],
      "source": [
        "# Menghitung total jumlah orang untuk setiap kelompok usia\n",
        "total_per_age = df['age'].value_counts()\n",
        "total_per_age"
      ]
    },
    {
      "cell_type": "code",
      "execution_count": null,
      "metadata": {
        "id": "jfrCpIxMoH18"
      },
      "outputs": [],
      "source": [
        "# Menghitung persentase perokok untuk setiap kelompok usia\n",
        "percentage_smokers_by_age = (smokers_per_age / total_per_age)\n",
        "percentage_smokers_by_age"
      ]
    },
    {
      "cell_type": "code",
      "execution_count": null,
      "metadata": {
        "id": "Qv49jipUACsN"
      },
      "outputs": [],
      "source": [
        "# grouping age agar tidak overvitting pada umur2 tertentu yang data perokoknya ekstrim (sama sekali tidak ada perokok)\n",
        "# yang berisiko mengakibatkan model mengidentifikasi pada umur tertentu tidak mungkin ada perokok. padalah mungkin saja pada kasus lain di umur yang sama ada prokok\n",
        "\n",
        "def age_group(age):\n",
        "    if 20 <= age <40:\n",
        "        return 1 # high prob\n",
        "    elif 40 <= age <= 50:\n",
        "        return 2 # medium prob\n",
        "    elif 50 < age <= 60:\n",
        "        return 3 # low prob\n",
        "    elif age > 60:\n",
        "        return 4\n",
        "\n",
        "df_train['age_catg'] = df_train['age'].apply(age_group)\n",
        "    # Baris kode ini bertugas untuk membuat kolom baru di dalam df_train,\n",
        "    # yang dinamai 'age_catg'. Nilai-nilai di kolom baru ini berasal dari hasil penerapan\n",
        "    # fungsi age_group ke setiap baris di kolom 'age' yang sudah ada."
      ]
    },
    {
      "cell_type": "code",
      "execution_count": null,
      "metadata": {
        "id": "KJTxQMAbDgBs"
      },
      "outputs": [],
      "source": [
        "# Menghitung jumlah perokok untuk setiap kelompok age\n",
        "smoker_per_age_catg = df_train.groupby('age_catg')['smoking'].sum()\n",
        "smoker_per_age_catg"
      ]
    },
    {
      "cell_type": "code",
      "execution_count": null,
      "metadata": {
        "id": "6GoT2W-AEDcD"
      },
      "outputs": [],
      "source": [
        "# Menghitung jumlah populasi untuk setiap kelompok age\n",
        "total_per_age_catg = df_train['age_catg'].value_counts()\n",
        "total_per_age_catg"
      ]
    },
    {
      "cell_type": "code",
      "execution_count": null,
      "metadata": {
        "id": "vMFEqLpfEKDR"
      },
      "outputs": [],
      "source": [
        "percentage_smoker_per_age_catg = (smoker_per_age_catg / total_per_age_catg)\n",
        "percentage_smoker_per_age_catg"
      ]
    },
    {
      "cell_type": "code",
      "execution_count": null,
      "metadata": {
        "id": "0gorQS7UZf31"
      },
      "outputs": [],
      "source": [
        "# Membuat dictionary mapping usia ke persentase perokok\n",
        "percentage_map = percentage_smoker_per_age_catg.to_dict()\n",
        "\n",
        "# Membuat kolom baru 'percentage_smokers' berdasarkan nilai di kolom 'age'\n",
        "df_train['%smoker_age'] = df_train['age_catg'].map(percentage_map)\n",
        "\n",
        "df_train.head()"
      ]
    },
    {
      "cell_type": "markdown",
      "metadata": {
        "id": "XwDon-5I3OR3"
      },
      "source": [
        "Info:\n",
        "1. semakin tua, peluang orang untuk merokok semakin kecil."
      ]
    },
    {
      "cell_type": "code",
      "execution_count": null,
      "metadata": {
        "id": "qI_4CoLptstl"
      },
      "outputs": [],
      "source": [
        "df_train.head()"
      ]
    },
    {
      "cell_type": "code",
      "execution_count": null,
      "metadata": {
        "id": "MuBZVegDpIDt"
      },
      "outputs": [],
      "source": [
        "df_train.info()"
      ]
    },
    {
      "cell_type": "code",
      "execution_count": null,
      "metadata": {
        "id": "aOby4IVn0Uu8"
      },
      "outputs": [],
      "source": [
        "# buat heatmap\n",
        "plt.figure(figsize=(20, 8))\n",
        "sns.heatmap(df_train.corr(), annot=True, cmap='coolwarm')\n",
        "plt.title('Heatmap Korelasi Fitur')\n",
        "plt.show()"
      ]
    },
    {
      "cell_type": "code",
      "execution_count": null,
      "metadata": {
        "id": "CL4_vXGnjcjq"
      },
      "outputs": [],
      "source": [
        "# terdapat multico antara waight dan waist\n",
        "df_train = df_train.drop(columns=['waist(cm)'])"
      ]
    },
    {
      "cell_type": "markdown",
      "metadata": {
        "id": "uu8Xl4OGmoa8"
      },
      "source": [
        "## BMI (weight, hight, age)"
      ]
    },
    {
      "cell_type": "code",
      "execution_count": null,
      "metadata": {
        "id": "JXLTXovl9Kik"
      },
      "outputs": [],
      "source": [
        "# buat kolom BMI, konvert cm ke m\n",
        "df_train['BMI'] = df_train['weight(kg)'] / (df_train['height(cm)'] / 100) ** 2"
      ]
    },
    {
      "cell_type": "code",
      "execution_count": null,
      "metadata": {
        "id": "phDJrOq36NsF"
      },
      "outputs": [],
      "source": [
        "df_train.head(3)"
      ]
    },
    {
      "cell_type": "markdown",
      "metadata": {
        "id": "5gbStyLDAOnN"
      },
      "source": [
        "![image.png](data:image/png;base64,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)"
      ]
    },
    {
      "cell_type": "markdown",
      "metadata": {
        "id": "19LxY3Uh98G6"
      },
      "source": [
        "![image.png](data:image/png;base64,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)\n",
        "\n",
        "Sumber: https://www.cdc.gov/bmi/adult-calculator/bmi-categories.html"
      ]
    },
    {
      "cell_type": "code",
      "execution_count": null,
      "metadata": {
        "id": "kYX6RdzH9udl"
      },
      "outputs": [],
      "source": [
        "def BMI_category(BMI):\n",
        "    if BMI < 18.5:\n",
        "        return 1 #Underweight\n",
        "    elif BMI >= 18.5 and BMI < 25:\n",
        "        return 2 # Healty Weight\n",
        "    elif BMI >= 25 and BMI < 30:\n",
        "        return 3 # Overweight\n",
        "    elif BMI >= 30 and BMI  < 35:\n",
        "        return 4 # Class 1 Obesity\n",
        "    elif BMI >= 35 and BMI  <= 40:\n",
        "        return 5 # Class 2 Obesity\n",
        "    elif BMI >40:\n",
        "        return 6 # Class 3 Obesity\n",
        "\n",
        "\n",
        "df_train['BMI_catg'] = df_train['BMI'].apply(BMI_category)\n"
      ]
    },
    {
      "cell_type": "code",
      "execution_count": null,
      "metadata": {
        "id": "7w51hrpGEQBc"
      },
      "outputs": [],
      "source": [
        "df_train.head(3)"
      ]
    },
    {
      "cell_type": "code",
      "execution_count": null,
      "metadata": {
        "id": "El7Q0q0nG3qr"
      },
      "outputs": [],
      "source": [
        "# Menghitung jumlah perokok untuk setiap kelompok usia\n",
        "smokers_by_BMI_catg = df_train.groupby('BMI_catg')['smoking'].sum()\n",
        "\n",
        "# Menghitung total jumlah orang untuk setiap kelompok usia\n",
        "total_by_BMI_catg = df_train['BMI_catg'].value_counts()\n",
        "\n",
        "# Menghitung persentase perokok untuk setiap kelompok usia\n",
        "percentage_smokers_each_BMI_catg = (smokers_by_BMI_catg / total_by_BMI_catg)\n",
        "percentage_smokers_each_BMI_catg"
      ]
    },
    {
      "cell_type": "code",
      "execution_count": null,
      "metadata": {
        "id": "vWkGFI7yEZDZ"
      },
      "outputs": [],
      "source": [
        "# Membuat dictionary mapping usia ke persentase perokok\n",
        "percentage_map_1 = percentage_smokers_each_BMI_catg.to_dict()\n",
        "\n",
        "# Membuat kolom baru 'percentage_smokers' berdasarkan nilai di kolom 'age'\n",
        "df_train['%smoker_BMI_catg'] = df_train['BMI_catg'].map(percentage_map_1)\n",
        "\n",
        "df_train.head()"
      ]
    },
    {
      "cell_type": "markdown",
      "metadata": {
        "id": "L7319_1kli7P"
      },
      "source": [
        "**.to_dict(**):\n",
        "mengonversi isi dari Series menjadi sebuah dictionary."
      ]
    },
    {
      "cell_type": "code",
      "execution_count": null,
      "metadata": {
        "id": "HuuP2KwXbsvE"
      },
      "outputs": [],
      "source": [
        "print('Percenage smober by BMI Category')\n",
        "print(percentage_smokers_each_BMI_catg)"
      ]
    },
    {
      "cell_type": "markdown",
      "metadata": {
        "id": "EnOnXJJBXX7L"
      },
      "source": [
        "Info:\n",
        "1. semakin gemuk, peluang orang untuk merokok relatif meningkat. ada indikasi merokok juga  diikuti oleh pola makan yang berlebihan"
      ]
    },
    {
      "cell_type": "code",
      "execution_count": null,
      "metadata": {
        "id": "Owok8gvkk4g3"
      },
      "outputs": [],
      "source": [
        "df_train.info()"
      ]
    },
    {
      "cell_type": "code",
      "execution_count": null,
      "metadata": {
        "id": "UhYD18M5eIeP"
      },
      "outputs": [],
      "source": [
        "df_train.head(3)"
      ]
    },
    {
      "cell_type": "markdown",
      "metadata": {
        "id": "YcZOnoCUnMCM"
      },
      "source": [
        "## Eyesight (left)\n",
        "Merokok dapat meningkatkan risiko berbagai penyakit mata yang serius dan bahkan menyebabkan kebutaan."
      ]
    },
    {
      "cell_type": "code",
      "execution_count": null,
      "metadata": {
        "collapsed": true,
        "id": "QPzzK9i6pU-H"
      },
      "outputs": [],
      "source": [
        "smoker_per_eyesight_L = df_train.groupby('eyesight(left)')['smoking'].sum()\n",
        "smoker_per_eyesight_L"
      ]
    },
    {
      "cell_type": "code",
      "execution_count": null,
      "metadata": {
        "collapsed": true,
        "id": "Uxl0GFnfxW1Q"
      },
      "outputs": [],
      "source": [
        "total_per_eyesight_L = df_train['eyesight(left)'].value_counts()\n",
        "total_per_eyesight_L"
      ]
    },
    {
      "cell_type": "code",
      "execution_count": null,
      "metadata": {
        "collapsed": true,
        "id": "0utLq3LW0_EZ"
      },
      "outputs": [],
      "source": [
        "ES_L = smoker_per_eyesight_L / total_per_eyesight_L\n",
        "ES_L\n",
        "#"
      ]
    },
    {
      "cell_type": "code",
      "execution_count": null,
      "metadata": {
        "id": "NSzAbxJhkwua"
      },
      "outputs": [],
      "source": [
        "'''\n",
        "< 35 rendah\t\t    0.1 <= eyesight <= 0.6\n",
        "35  - 50 sedang\t\t0.6 < eyesight <= 1.3\n",
        "> 50 tinggi\t\t    1.3 < eyesight <= 2.0\n",
        "else\n",
        "'''\n",
        "\n",
        "def ES_catg(eyesight):\n",
        "    if 0.1 <= eyesight <= 0.6:\n",
        "        return 1 #low prob\n",
        "    elif 0.6 < eyesight <= 1.3:\n",
        "        return 2 #medium prob\n",
        "    elif 1.3 < eyesight <= 2.0:\n",
        "        return 3 # hight prob\n",
        "    else:\n",
        "        return 1\n",
        "\n",
        "df_train['ESL_catg'] = df_train['eyesight(left)'].apply(ES_catg)"
      ]
    },
    {
      "cell_type": "code",
      "execution_count": null,
      "metadata": {
        "id": "WcDQS-aJnNKE"
      },
      "outputs": [],
      "source": [
        "smoker_per_ESL_catg = df_train.groupby('ESL_catg')['smoking'].sum()\n",
        "smoker_per_ESL_catg"
      ]
    },
    {
      "cell_type": "code",
      "execution_count": null,
      "metadata": {
        "id": "Xeds29Lzm77M"
      },
      "outputs": [],
      "source": [
        "total_per_ESL_catg = df_train['ESL_catg'].value_counts()\n",
        "total_per_ESL_catg"
      ]
    },
    {
      "cell_type": "code",
      "execution_count": null,
      "metadata": {
        "id": "aO8vpyM4nutC"
      },
      "outputs": [],
      "source": [
        "percentage_by_ESL_catg = smoker_per_ESL_catg / total_per_ESL_catg\n",
        "percentage_by_ESL_catg"
      ]
    },
    {
      "cell_type": "code",
      "execution_count": null,
      "metadata": {
        "id": "lJvVX827oJ5b"
      },
      "outputs": [],
      "source": [
        "percentage_map_ESL = percentage_by_ESL_catg.to_dict()"
      ]
    },
    {
      "cell_type": "code",
      "execution_count": null,
      "metadata": {
        "id": "qynW5lKno1qc"
      },
      "outputs": [],
      "source": [
        "df_train['%ESL'] = df_train['ESL_catg'].map(percentage_map_ESL)"
      ]
    },
    {
      "cell_type": "code",
      "execution_count": null,
      "metadata": {
        "id": "Ug1o7xCkpEuG"
      },
      "outputs": [],
      "source": [
        "df_train.head(3)"
      ]
    },
    {
      "cell_type": "markdown",
      "metadata": {
        "id": "aCQkLBY0pLkc"
      },
      "source": [
        "##Eyesight (Right)"
      ]
    },
    {
      "cell_type": "code",
      "execution_count": null,
      "metadata": {
        "collapsed": true,
        "id": "dWm1dSI43Op4"
      },
      "outputs": [],
      "source": [
        "smoker_per_eyesight_R = df_train.groupby('eyesight(right)')['smoking'].sum()\n",
        "smoker_per_eyesight_R"
      ]
    },
    {
      "cell_type": "code",
      "execution_count": null,
      "metadata": {
        "collapsed": true,
        "id": "qz4khE7D3Sfz"
      },
      "outputs": [],
      "source": [
        "total_per_eyesight_R = df_train['eyesight(right)'].value_counts()\n",
        "total_per_eyesight_R"
      ]
    },
    {
      "cell_type": "code",
      "execution_count": null,
      "metadata": {
        "collapsed": true,
        "id": "YNryexEJ3ZZS"
      },
      "outputs": [],
      "source": [
        "SE_R = smoker_per_eyesight_R / total_per_eyesight_R\n",
        "SE_R"
      ]
    },
    {
      "cell_type": "code",
      "execution_count": null,
      "metadata": {
        "id": "drO2xTl2qALE"
      },
      "outputs": [],
      "source": [
        "def ESR_catg(eyesight):\n",
        "    if 0.1 <= eyesight <= 0.7:\n",
        "        return 1 #low prob\n",
        "    elif 0.7 < eyesight <= 1.3:\n",
        "        return 2 #medium prob\n",
        "    elif 1.3 < eyesight <= 2.0:\n",
        "        return 3 # hight prob\n",
        "    else:\n",
        "        return 1\n",
        "\n",
        "df_train['ESR_catg'] = df_train['eyesight(right)'].apply(ESR_catg)"
      ]
    },
    {
      "cell_type": "code",
      "execution_count": null,
      "metadata": {
        "id": "Lo6ko2m-qUcJ"
      },
      "outputs": [],
      "source": [
        "smoker_per_ESR_catg =  df_train.groupby('ESR_catg')['smoking'].sum()\n",
        "smoker_per_ESR_catg"
      ]
    },
    {
      "cell_type": "code",
      "execution_count": null,
      "metadata": {
        "id": "WvyFC0QfqtqE"
      },
      "outputs": [],
      "source": [
        "total_per_EST_catg = df_train['ESR_catg'].value_counts()\n",
        "total_per_EST_catg"
      ]
    },
    {
      "cell_type": "code",
      "execution_count": null,
      "metadata": {
        "id": "T3cctZKSqzqD"
      },
      "outputs": [],
      "source": [
        "percentage_by_ESR_catg = smoker_per_ESR_catg / total_per_EST_catg\n",
        "percentage_by_ESR_catg"
      ]
    },
    {
      "cell_type": "code",
      "execution_count": null,
      "metadata": {
        "id": "B0_hXPworBnC"
      },
      "outputs": [],
      "source": [
        "percentage_map_ESR = percentage_by_ESR_catg.to_dict()\n"
      ]
    },
    {
      "cell_type": "code",
      "execution_count": null,
      "metadata": {
        "id": "QI56a5dnrdY8"
      },
      "outputs": [],
      "source": [
        "df_train['%ESR'] = df_train['ESR_catg'].map(percentage_map_ESR)"
      ]
    },
    {
      "cell_type": "code",
      "execution_count": null,
      "metadata": {
        "id": "X_4kkncmrpjd"
      },
      "outputs": [],
      "source": [
        "df_train.info()"
      ]
    },
    {
      "cell_type": "code",
      "execution_count": null,
      "metadata": {
        "id": "jYz6tEggt8Si"
      },
      "outputs": [],
      "source": [
        "# Membuat countplot menggunakan seaborn\n",
        "plt.figure(figsize=(20, 6))  # Mengatur ukuran gambar agar lebih mudah dibaca\n",
        "sns.countplot(data=df_train, x='eyesight(left)', hue='smoking')\n",
        "\n",
        "# Menambahkan label dan judul\n",
        "plt.title('Distribusi Eyesight(left) Berdasarkan Status Merokok (Rentang 0 - 0.9)')\n",
        "plt.xlabel('Eyesight(left)')\n",
        "plt.ylabel('Jumlah Data')\n",
        "plt.legend(title='Smoking', labels=['Tidak Merokok (0)', 'Merokok (1)'])\n",
        "\n",
        "# Menambahkan anotasi nilai di atas setiap bar (opsional, tapi membantu interpretasi)\n",
        "for p in plt.gca().patches:\n",
        "    height = p.get_height()\n",
        "    plt.text(p.get_x() + p.get_width()/2., height + 10,\n",
        "            '{:.0f}'.format(height),\n",
        "            ha='center', va='bottom', fontsize=8)\n",
        "\n",
        "# Menampilkan plot\n",
        "plt.tight_layout()\n",
        "plt.show()"
      ]
    },
    {
      "cell_type": "markdown",
      "metadata": {
        "id": "41NU9VI5myjl"
      },
      "source": [
        "## Blood Pressure (Systolic, Diastolic/Relaxation)\n",
        "Sistolik adalah tekanan darah saat jantung berkontraksi (memompa darah keluar). Ini adalah angka atas dalam pembacaan tekanan darah.\n",
        "\n",
        "Ketika dokter atau alat pengukur tekanan darah mencatat dua angka, misalnya 120/80 mmHg:\n",
        "\n",
        "    1. 120 adalah tekanan sistolik. Ini menunjukkan tekanan di arteri Anda saat otot jantung Anda memeras (berkontraksi) untuk memompa darah ke seluruh tubuh. Tekanan ini paling tinggi selama siklus jantung.\n",
        "\n",
        "    2. 80 adalah tekanan diastolik. Ini menunjukkan tekanan di arteri Anda saat otot jantung Anda berelaksasi di antara detak jantung, memungkinkan jantung terisi darah kembali. Tekanan ini paling rendah selama siklus jantung.\n",
        "\n",
        "    3. mmHg adalah singkatan dari milimeter merkuri, unit yang digunakan untuk mengukur tekanan darah."
      ]
    },
    {
      "cell_type": "markdown",
      "metadata": {
        "id": "0kYRTLR6rijq"
      },
      "source": [
        "![image.png](data:image/png;base64,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)\n",
        "\n",
        "Sumber: https://www.heart.org/en/health-topics/high-blood-pressure/understanding-blood-pressure-readings"
      ]
    },
    {
      "cell_type": "markdown",
      "metadata": {
        "id": "eTVMBkHnr8UW"
      },
      "source": [
        "sumber:"
      ]
    },
    {
      "cell_type": "code",
      "execution_count": null,
      "metadata": {
        "id": "_6exHK34eXG-"
      },
      "outputs": [],
      "source": [
        "def map_blood_pressure(systolic, relaxation):\n",
        "    if (systolic < 120) and (relaxation < 80):\n",
        "        return 1  # Normal\n",
        "    elif (systolic >= 120 and systolic <= 129) and (relaxation < 80):\n",
        "        return 2  # Elevated\n",
        "    elif (systolic >= 130 and systolic <= 139) or (relaxation >= 80 and relaxation <= 89):\n",
        "        return 3  # High Stage 1\n",
        "    elif (systolic >= 180) or (relaxation >= 120):\n",
        "        return 5  # Hypertensive Crisis\n",
        "    elif (systolic >= 140) or (relaxation >= 90):\n",
        "        return 4  # High Stage 2\n",
        "    else:\n",
        "        return None  # Atau nilai lain untuk kasus di luar kondisi di atas\n",
        "\n",
        "# Menerapkan fungsi ke setiap baris DataFrame\n",
        "df_train['BloodPressure'] = df_train.apply(lambda row: map_blood_pressure(row['systolic'], row['relaxation']), axis=1)\n"
      ]
    },
    {
      "cell_type": "code",
      "execution_count": null,
      "metadata": {
        "id": "7ss_521vTQus"
      },
      "outputs": [],
      "source": [
        "df_train.info()"
      ]
    },
    {
      "cell_type": "code",
      "execution_count": null,
      "metadata": {
        "id": "CmpkdaRnTWqA"
      },
      "outputs": [],
      "source": [
        "\n",
        "# Menghitung jumlah perokok untuk setiap kelompok Bloos pressure\n",
        "smoker_by_BloodPressure = df_train.groupby('BloodPressure')['smoking'].sum()\n",
        "\n",
        "# Menghitung total jumlah orang untuk setiap kelompok BloodPressure\n",
        "total_by_BloodPressure = df_train['BloodPressure'].value_counts()\n",
        "\n",
        "# Menghitung persentase perokok untuk setiap kelompok blood Pressure\n",
        "percentage_smoker_byBloodPressure = (smoker_by_BloodPressure / total_by_BloodPressure)\n",
        "\n",
        "percentage_smoker_byBloodPressure"
      ]
    },
    {
      "cell_type": "markdown",
      "metadata": {
        "id": "F6Ic_WWOGSPn"
      },
      "source": [
        "Info:\n",
        "1. peluang seseorang merokok relatif lebih banyak dengan kategori Tekanan darah 3 hingga 4"
      ]
    },
    {
      "cell_type": "code",
      "execution_count": null,
      "metadata": {
        "id": "-OBedSt8Vq8M"
      },
      "outputs": [],
      "source": [
        "# Membuat dictionary mapping usia ke persentase perokok\n",
        "percentage_map_2 = percentage_smoker_byBloodPressure.to_dict()"
      ]
    },
    {
      "cell_type": "code",
      "execution_count": null,
      "metadata": {
        "id": "nwuJJJelWXug"
      },
      "outputs": [],
      "source": [
        "# Membuat kolom baru 'percentage_smokers' berdasarkan nilai di kolom 'BloodPressure'\n",
        "df_train['%smoker_BloodPressure'] = df_train['BloodPressure'].map(percentage_map_2)\n",
        "\n",
        "df_train.head()"
      ]
    },
    {
      "cell_type": "markdown",
      "metadata": {
        "id": "L4cQzAgxI36j"
      },
      "source": [
        "## Fasting Blood Sugar"
      ]
    },
    {
      "cell_type": "markdown",
      "metadata": {
        "id": "ZJT9jfcGO8ny"
      },
      "source": [
        "**Standar Gula Darah Puasa**\n",
        "\n",
        "*   Normal: 70 - 100\n",
        "*   PraDiabet: 101 - 125\n",
        "* Diabet: > 126\n",
        "\n",
        "Sumber: https://www-who-int.translate.goog/data/gho/indicator-metadata-registry/imr-details/2380?_x_tr_sl=en&_x_tr_tl=id&_x_tr_hl=id&_x_tr_pto=tc"
      ]
    },
    {
      "cell_type": "code",
      "execution_count": null,
      "metadata": {
        "id": "G0M2RPt0I-jh"
      },
      "outputs": [],
      "source": [
        "B_sugar = df_train['fasting blood sugar'].value_counts().sort_values(ascending = False)\n",
        "B_sugar"
      ]
    },
    {
      "cell_type": "code",
      "execution_count": null,
      "metadata": {
        "id": "bPPdCytBK5xb"
      },
      "outputs": [],
      "source": [
        "#grouping gula darah berdasarkan standar yg jelas\n",
        "def BS_catg(fasting_blood_sugar):\n",
        "    if fasting_blood_sugar <= 100 :\n",
        "        return 1 # normal\n",
        "    elif 100 < fasting_blood_sugar <= 125:\n",
        "        return 2 # pradiabet\n",
        "    elif fasting_blood_sugar  >= 126:\n",
        "        return 3 # diabetes\n",
        "\n",
        "df_train['BS_catg'] = df_train['fasting blood sugar'].map(BS_catg)\n",
        "\n",
        "df_train.head(3)\n"
      ]
    },
    {
      "cell_type": "code",
      "execution_count": null,
      "metadata": {
        "id": "6re2_YD0JWiq"
      },
      "outputs": [],
      "source": [
        "df_train.info()"
      ]
    },
    {
      "cell_type": "code",
      "execution_count": null,
      "metadata": {
        "id": "aTF-xxfVfcih"
      },
      "outputs": [],
      "source": [
        "smoker_per_BS_catg = df_train.groupby('BS_catg')['smoking'].sum()\n",
        "smoker_per_BS_catg"
      ]
    },
    {
      "cell_type": "code",
      "execution_count": null,
      "metadata": {
        "id": "FTCKHcPlgGhD"
      },
      "outputs": [],
      "source": [
        "# Menghitung total jumlah orang untuk setiap kelompok BloodPressure\n",
        "total_by_BS_catg = df_train['BS_catg'].value_counts()\n",
        "total_by_BS_catg"
      ]
    },
    {
      "cell_type": "code",
      "execution_count": null,
      "metadata": {
        "id": "kvngvepViXpI"
      },
      "outputs": [],
      "source": [
        "# Menghitung persentase perokok untuk setiap kelompok blood Pressure\n",
        "percentage_smoker_by_BS_catg = (smoker_per_BS_catg / total_by_BS_catg)\n",
        "\n",
        "percentage_smoker_by_BS_catg"
      ]
    },
    {
      "cell_type": "markdown",
      "metadata": {
        "id": "TrPsWGhDio7A"
      },
      "source": [
        "Info:\n",
        "1. Orang yang merokok berpeluang lebih besar berada pada kelompok orang dengan kadar gula darah yang lebih tinggi."
      ]
    },
    {
      "cell_type": "code",
      "execution_count": null,
      "metadata": {
        "id": "bWjO0xHukwXa"
      },
      "outputs": [],
      "source": [
        "# Membuat dictionary mapping Blood Sugar Category ke persentase perokok dalam kelompok tersebut\n",
        "percentage_map_3 = percentage_smoker_by_BS_catg.to_dict()"
      ]
    },
    {
      "cell_type": "code",
      "execution_count": null,
      "metadata": {
        "id": "b3gdWzvzimwv"
      },
      "outputs": [],
      "source": [
        "# Membuat kolom baru 'percentage_smokers' berdasarkan nilai di kolom 'BloodPressure'\n",
        "df_train['%smoker_BS_catg'] = df_train['BS_catg'].map(percentage_map_3)\n",
        "\n",
        "df_train.head()"
      ]
    },
    {
      "cell_type": "markdown",
      "metadata": {
        "id": "b4irXrNjjFMv"
      },
      "source": [
        "## Cholesterol (Cholesterol total, HDL, LDL, Trigliserida)\n"
      ]
    },
    {
      "cell_type": "markdown",
      "metadata": {
        "id": "TOzad2HToRCO"
      },
      "source": [
        "Meroko dapat mengakibatkan:\n",
        "1. HDL (High dencity Lipoprotein / kolesterol baik) menurun.\n",
        "2. LDL (Low Dencity Lipoprotein / kolesterol jahat) meningkat.\n",
        "3. Trigliserida (kolesterol lainnya) meningkat."
      ]
    },
    {
      "cell_type": "markdown",
      "metadata": {
        "id": "t8unpI0VrWAg"
      },
      "source": [
        "### Cholesterol"
      ]
    },
    {
      "cell_type": "markdown",
      "metadata": {
        "id": "_z8WXwWtt9yT"
      },
      "source": [
        "![image.png](data:image/png;base64,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)\n",
        "\n",
        "Sumber: https://healthy-ojas.com/cholesterol/healthy-cholesterol-level.html"
      ]
    },
    {
      "cell_type": "code",
      "execution_count": null,
      "metadata": {
        "id": "8pVc9qGBUjNx"
      },
      "outputs": [],
      "source": [
        "kolesterol = df_train['Cholesterol'].value_counts().sort_values(ascending=False)\n",
        "kolesterol\n"
      ]
    },
    {
      "cell_type": "code",
      "execution_count": null,
      "metadata": {
        "id": "DiX42F6loQlP"
      },
      "outputs": [],
      "source": [
        "def chol(Cholesterol):\n",
        "    if Cholesterol < 200:\n",
        "        return 1 # Optimal\n",
        "    elif 200 <= Cholesterol <= 239:\n",
        "        return 2 # Intermediate\n",
        "    elif Cholesterol > 239:\n",
        "        return 3 # High\n",
        "\n",
        "df_train['chol_catg'] = df_train['Cholesterol'].apply(chol)\n",
        "df_train.head()\n"
      ]
    },
    {
      "cell_type": "code",
      "execution_count": null,
      "metadata": {
        "id": "RD_aIRRQmNM4"
      },
      "outputs": [],
      "source": [
        "df_train.info()"
      ]
    },
    {
      "cell_type": "code",
      "execution_count": null,
      "metadata": {
        "id": "CLFB2KVpVTt7"
      },
      "outputs": [],
      "source": [
        "# Jumlah perokok per kategori kolesterol\n",
        "smoker_per_chol_catg = df_train.groupby('chol_catg')['smoking'].sum()\n",
        "smoker_per_chol_catg"
      ]
    },
    {
      "cell_type": "code",
      "execution_count": null,
      "metadata": {
        "id": "gFmooHjCW-Ph"
      },
      "outputs": [],
      "source": [
        "total_per_chol_catg = df_train['chol_catg'].value_counts()\n",
        "total_per_chol_catg"
      ]
    },
    {
      "cell_type": "code",
      "execution_count": null,
      "metadata": {
        "id": "8BFccTIQXuPI"
      },
      "outputs": [],
      "source": [
        "# Menghitung % perokok untuk setiap kategori Cholesterol\n",
        "percentage_smoker_by_chol_catg = (smoker_per_chol_catg / total_per_chol_catg)\n",
        "\n",
        "percentage_smoker_by_chol_catg"
      ]
    },
    {
      "cell_type": "code",
      "execution_count": null,
      "metadata": {
        "id": "bOmaouTSYcrz"
      },
      "outputs": [],
      "source": [
        "# Membuat dictionary mapping Cholesterol Category ke persentase perokok dalam kelompok tersebut\n",
        "percentage_map_4 = percentage_smoker_by_chol_catg.to_dict()"
      ]
    },
    {
      "cell_type": "code",
      "execution_count": null,
      "metadata": {
        "id": "s1zTt1ncY_jb"
      },
      "outputs": [],
      "source": [
        "df_train['%smoker_chol_catg'] = df_train['chol_catg'].map(percentage_map_4)\n",
        "df_train.head(3)"
      ]
    },
    {
      "cell_type": "markdown",
      "metadata": {
        "id": "AmXG_iqiZ8qt"
      },
      "source": [
        "### HDL (Kolesterol baik)"
      ]
    },
    {
      "cell_type": "code",
      "execution_count": null,
      "metadata": {
        "id": "HB9wk4ZeaFCF"
      },
      "outputs": [],
      "source": [
        "def HDL(HDL):\n",
        "    if HDL < 40:\n",
        "        return 1 # Rendah\n",
        "    elif 40 <= HDL <= 59:\n",
        "        return 2 # Intermediate\n",
        "    elif HDL > 59:\n",
        "        return 3 # Optimal\n",
        "\n",
        "df_train['HDL_catg'] = df_train['HDL'].apply(HDL)\n",
        "df_train.head()"
      ]
    },
    {
      "cell_type": "code",
      "execution_count": null,
      "metadata": {
        "id": "7VC6OQr6a5Td"
      },
      "outputs": [],
      "source": [
        "# hitung julah perokok untuk setiap kategori HDL\n",
        "smoker_per_HDL_catg = df_train.groupby('HDL_catg')['smoking'].sum()\n",
        "smoker_per_HDL_catg"
      ]
    },
    {
      "cell_type": "code",
      "execution_count": null,
      "metadata": {
        "id": "jY_vnTxsbOIt"
      },
      "outputs": [],
      "source": [
        "#menghitung total orang untuk setiap kategori HDL\n",
        "total_per_HDL_catg = df_train['HDL_catg'].value_counts()\n",
        "total_per_HDL_catg"
      ]
    },
    {
      "cell_type": "code",
      "execution_count": null,
      "metadata": {
        "id": "gKICBSE1beyp"
      },
      "outputs": [],
      "source": [
        "# % setiap perokok disetiap kelompok HDL\n",
        "percentage_smoker_by_HDL_catg = (smoker_per_HDL_catg / total_per_HDL_catg)\n",
        "\n",
        "percentage_smoker_by_HDL_catg"
      ]
    },
    {
      "cell_type": "markdown",
      "metadata": {
        "id": "1HpJRHkCgEpL"
      },
      "source": [
        "Info:\n",
        "1. perokok cenderung berada lebih banyak pada kelompok orang ber-HDL rendah (berisiko serangan jantung)"
      ]
    },
    {
      "cell_type": "code",
      "execution_count": null,
      "metadata": {
        "id": "c5osF9kShnEm"
      },
      "outputs": [],
      "source": [
        "# Buat dictionary % HDL Category\n",
        "percentage_map_5 = percentage_smoker_by_HDL_catg.to_dict()\n",
        "\n",
        "df_train['%smoker_HDL_catg'] = df_train['HDL_catg'].map(percentage_map_5)\n",
        "df_train.head(3)"
      ]
    },
    {
      "cell_type": "code",
      "execution_count": null,
      "metadata": {
        "id": "qq5J0xPAVM8S"
      },
      "outputs": [],
      "source": [
        "df_train.info()"
      ]
    },
    {
      "cell_type": "markdown",
      "metadata": {
        "id": "V3d6KfUIioLd"
      },
      "source": [
        "### LDL (Kolesterol Jahat)"
      ]
    },
    {
      "cell_type": "code",
      "execution_count": null,
      "metadata": {
        "id": "fgpVl09alE75"
      },
      "outputs": [],
      "source": [
        "min_LDL = df_train['LDL'].min()\n",
        "min_LDL"
      ]
    },
    {
      "cell_type": "code",
      "execution_count": null,
      "metadata": {
        "id": "F9i3kowum5E6"
      },
      "outputs": [],
      "source": [
        "max_LDL = df_train['LDL'].max()\n",
        "max_LDL"
      ]
    },
    {
      "cell_type": "code",
      "execution_count": null,
      "metadata": {
        "id": "dHy9-W3GitWV"
      },
      "outputs": [],
      "source": [
        "LDL_value_array = df_train['LDL'].unique()\n",
        "LDL_value_series = pd.Series(LDL_value_array)\n",
        "LDL_value_sorted_desc = LDL_value_series.sort_values(ascending=False)\n",
        "\n",
        "print(\"Nilai Unik LDL (Descending - Pandas Series):\")\n",
        "print(LDL_value_sorted_desc)"
      ]
    },
    {
      "cell_type": "code",
      "execution_count": null,
      "metadata": {
        "id": "WHZuH8bvWVFG"
      },
      "outputs": [],
      "source": [
        "def LDL(LDL):\n",
        "    if LDL < 100:\n",
        "        return 1 # Optimal\n",
        "    elif 100 <= LDL <= 129:\n",
        "        return 2 # Intermediate\n",
        "    elif 130 <= LDL <= 159:\n",
        "        return 3 # Intermediate\n",
        "    elif 160 <= LDL <= 189:\n",
        "        return 4 # Intermediate\n",
        "    elif LDL >= 190:\n",
        "        return 5 # High\n",
        "\n",
        "df_train['LDL_catg'] = df_train['LDL'].apply(LDL)\n",
        "df_train"
      ]
    },
    {
      "cell_type": "code",
      "execution_count": null,
      "metadata": {
        "id": "DImpUZWLXJ6E"
      },
      "outputs": [],
      "source": [
        "smoker_per_LDL_catg = df_train.groupby('LDL_catg')['smoking'].sum()\n",
        "smoker_per_LDL_catg"
      ]
    },
    {
      "cell_type": "code",
      "execution_count": null,
      "metadata": {
        "id": "7WzEYQ2SXPLN"
      },
      "outputs": [],
      "source": [
        "total_per_LDL_catg = df_train['LDL_catg'].value_counts()\n",
        "total_per_LDL_catg"
      ]
    },
    {
      "cell_type": "code",
      "execution_count": null,
      "metadata": {
        "id": "ewwYgPpCYwhx"
      },
      "outputs": [],
      "source": [
        "percentage_smoker_by_LDL_catg = (smoker_per_LDL_catg / total_per_LDL_catg)\n",
        "\n",
        "percentage_smoker_by_LDL_catg"
      ]
    },
    {
      "cell_type": "code",
      "execution_count": null,
      "metadata": {
        "id": "51TuRckCYui-"
      },
      "outputs": [],
      "source": [
        "percentage_map_6 = percentage_smoker_by_LDL_catg.to_dict()\n",
        "\n",
        "df_train['%smoker_LDL_catg'] = df_train['LDL_catg'].map(percentage_map_6)\n",
        "df_train.head(3)\n"
      ]
    },
    {
      "cell_type": "markdown",
      "metadata": {
        "id": "Nzz46HXYgRXQ"
      },
      "source": [
        "### Triglyceride"
      ]
    },
    {
      "cell_type": "code",
      "execution_count": null,
      "metadata": {
        "id": "sgoZX1aScywM"
      },
      "outputs": [],
      "source": [
        "def tri(triglyceride):\n",
        "    if triglyceride < 150:\n",
        "        return 1 # Optimal\n",
        "    elif 150 <= triglyceride <= 199:\n",
        "        return 2 # Intermediate\n",
        "    elif 199 < triglyceride:\n",
        "        return 3 # High\n",
        "\n",
        "df_train['tri_catg'] = df_train['triglyceride'].apply(tri)\n",
        "df_train.head(3)"
      ]
    },
    {
      "cell_type": "code",
      "execution_count": null,
      "metadata": {
        "id": "vghFHH-fiN2M"
      },
      "outputs": [],
      "source": [
        "# perokok per kelompok kategori triglicarida\n",
        "smoker_per_tri_catg = df_train.groupby('tri_catg')['smoking'].sum()\n",
        "smoker_per_tri_catg"
      ]
    },
    {
      "cell_type": "code",
      "execution_count": null,
      "metadata": {
        "id": "0orpN9lvihqv"
      },
      "outputs": [],
      "source": [
        "#total per kategori tri\n",
        "total_per_tri_catg = df_train['tri_catg'].value_counts()\n",
        "total_per_tri_catg"
      ]
    },
    {
      "cell_type": "code",
      "execution_count": null,
      "metadata": {
        "id": "HC_vSCu-iy7Z"
      },
      "outputs": [],
      "source": [
        "# % perokok per kelompok tri\n",
        "percentage_smoker_by_tri_catg = (smoker_per_tri_catg / total_per_tri_catg)\n",
        "percentage_smoker_by_tri_catg"
      ]
    },
    {
      "cell_type": "markdown",
      "metadata": {
        "id": "GehoCE4DjN1R"
      },
      "source": [
        "Info:\n",
        "1. perokok lebih banyak berada pada kelompok dengan kandungan trigliserida yang lebih tinggi"
      ]
    },
    {
      "cell_type": "code",
      "execution_count": null,
      "metadata": {
        "id": "67ByohUjjtD2"
      },
      "outputs": [],
      "source": [
        "percentage_map_7 = percentage_smoker_by_tri_catg.to_dict()\n",
        "\n",
        "df_train['%smoker_tri_catg'] = df_train['tri_catg'].map(percentage_map_7)\n",
        "df_train.head(3)"
      ]
    },
    {
      "cell_type": "code",
      "execution_count": null,
      "metadata": {
        "id": "HpPnOE_f9iu6"
      },
      "outputs": [],
      "source": [
        "df_train.info()"
      ]
    },
    {
      "cell_type": "markdown",
      "metadata": {
        "id": "W5uMnCCfmdi3"
      },
      "source": [
        "### Hemoglobin\n",
        "\n",
        "Merokok memiliki pengaruh yang kompleks terhadap kadar hemoglobin, dan cenderung menyebabkan peningkatan kadar hemoglobin dalam darah. Berikut penjelasannya:\n",
        "\n",
        "1. **Peningkatan CO** (Karbon Monoksida): Asap rokok mengandung karbon monoksida (CO). CO memiliki afinitas yang jauh lebih tinggi terhadap hemoglobin dibandingkan oksigen. Ketika seseorang merokok, CO akan berikatan dengan hemoglobin, membentuk karboksihemoglobin (COHb).\n",
        "\n",
        "2. **Penurunan Oksigen dalam Darah** (Hipoksia): Pembentukan COHb mengurangi jumlah hemoglobin yang tersedia untuk mengangkut oksigen ke seluruh tubuh, menyebabkan kondisi hipoksia (kekurangan oksigen) pada tingkat jaringan.\n",
        "\n",
        "3. Respons Kompensasi Tubuh: Sebagai respons terhadap hipoksia kronis akibat merokok, **tubuh akan memproduksi lebih banyak sel darah merah** dan hemoglobin untuk meningkatkan kapasitas pengangkutan oksigen. Kondisi ini dikenal sebagai polisitemia sekunder"
      ]
    },
    {
      "cell_type": "code",
      "execution_count": null,
      "metadata": {
        "id": "lnv24aWCo3dA"
      },
      "outputs": [],
      "source": [
        "# lihat nilai min dan max data hemoglobin\n",
        "min_hemo = df_train['hemoglobin'].min()\n",
        "min_hemo"
      ]
    },
    {
      "cell_type": "code",
      "execution_count": null,
      "metadata": {
        "id": "_lUc98BfqWTL"
      },
      "outputs": [],
      "source": [
        "max_hemo = df_train['hemoglobin'].max()\n",
        "max_hemo"
      ]
    },
    {
      "cell_type": "markdown",
      "metadata": {
        "id": "FI-h2KkHri2r"
      },
      "source": [
        "Karena tidak adaketerangan jenis kelamin, maka kita asumsikan semua data adalah laki2.\n",
        "\n",
        "Standar kadar hemoglobin untuk laki2 dewasa adalah 14 - 18 g/dl\n",
        "\n",
        "Sumber: https://www.ncbi.nlm.nih.gov/books/NBK259/"
      ]
    },
    {
      "cell_type": "code",
      "execution_count": null,
      "metadata": {
        "id": "Cr5p25OXq21E"
      },
      "outputs": [],
      "source": [
        "def hemo(hemoglobin):\n",
        "    if hemoglobin < 14:\n",
        "        return 1 # Rendah\n",
        "    elif 14 <= hemoglobin <= 18:\n",
        "        return 2 #normal\n",
        "    elif hemoglobin > 18:\n",
        "        return 3 #tinggi\n",
        "\n",
        "df_train['hemo_catg'] = df_train['hemoglobin'].apply(hemo)\n",
        "df_train.head()\n",
        "#"
      ]
    },
    {
      "cell_type": "code",
      "execution_count": null,
      "metadata": {
        "id": "_yy-mqx49OWR"
      },
      "outputs": [],
      "source": [
        "smoker_per_hemo_catg = df_train.groupby('hemo_catg')['smoking'].sum()\n",
        "smoker_per_hemo_catg"
      ]
    },
    {
      "cell_type": "code",
      "execution_count": null,
      "metadata": {
        "id": "4BqbUBzN98oI"
      },
      "outputs": [],
      "source": [
        "total_per_hemo_catg = df_train['hemo_catg'].value_counts()\n",
        "total_per_hemo_catg"
      ]
    },
    {
      "cell_type": "code",
      "execution_count": null,
      "metadata": {
        "id": "kKShbbOv_yQN"
      },
      "outputs": [],
      "source": [
        "percentage_map_8 = (smoker_per_hemo_catg/total_per_hemo_catg)"
      ]
    },
    {
      "cell_type": "code",
      "execution_count": null,
      "metadata": {
        "id": "0fFHcYilAPDW"
      },
      "outputs": [],
      "source": [
        "percentage_map_8"
      ]
    },
    {
      "cell_type": "markdown",
      "metadata": {
        "id": "DNYyB7LxBKvl"
      },
      "source": [
        "Info:\n",
        "1. aktivitas merokok berkaitan dengan peningkatan kadar hemoglobin dalam darah."
      ]
    },
    {
      "cell_type": "code",
      "execution_count": null,
      "metadata": {
        "id": "PSNnBEuLAgym"
      },
      "outputs": [],
      "source": [
        "percentage_map_8 = percentage_map_8.to_dict()"
      ]
    },
    {
      "cell_type": "code",
      "execution_count": null,
      "metadata": {
        "id": "xgp1hdJxBGUY"
      },
      "outputs": [],
      "source": [
        "df_train['%smoker_hemo_catg'] = df_train['hemo_catg'].map(percentage_map_8)"
      ]
    },
    {
      "cell_type": "code",
      "execution_count": null,
      "metadata": {
        "id": "CyiVy5i4F4Aq"
      },
      "outputs": [],
      "source": [
        "df_train.head()"
      ]
    },
    {
      "cell_type": "markdown",
      "metadata": {
        "id": "UOInzREoG73M"
      },
      "source": [
        "## Urin Protein\n",
        "Merokok secara signifikan meningkatkan risiko proteinuria dan kerusakan ginjal melalui berbagai mekanisme, termasuk kerusakan pembuluh darah, peningkatan tekanan darah, peradangan, dan kerusakan langsung pada glomeruli."
      ]
    },
    {
      "cell_type": "code",
      "execution_count": null,
      "metadata": {
        "id": "Gp_ImezhJQbm"
      },
      "outputs": [],
      "source": [
        "min_UP = df_train['Urine protein'].min()\n",
        "min_UP"
      ]
    },
    {
      "cell_type": "code",
      "execution_count": null,
      "metadata": {
        "id": "dVio32VJJa0y"
      },
      "outputs": [],
      "source": [
        "max_UP = df_train['Urine protein'].max()\n",
        "max_UP"
      ]
    },
    {
      "cell_type": "code",
      "execution_count": null,
      "metadata": {
        "id": "5F_bnaCEHNzm"
      },
      "outputs": [],
      "source": [
        "smoker_per_UP = df_train.groupby('Urine protein')['smoking'].sum()\n",
        "smoker_per_UP"
      ]
    },
    {
      "cell_type": "code",
      "execution_count": null,
      "metadata": {
        "id": "7WCYK2DoL7O6"
      },
      "outputs": [],
      "source": [
        "total_per_UP = df_train['Urine protein'].value_counts()\n",
        "total_per_UP"
      ]
    },
    {
      "cell_type": "code",
      "execution_count": null,
      "metadata": {
        "id": "LdiuQdAEMbwY"
      },
      "outputs": [],
      "source": [
        "percentage_smoker_by_UP = (smoker_per_UP / total_per_UP)\n",
        "percentage_smoker_by_UP"
      ]
    },
    {
      "cell_type": "markdown",
      "metadata": {
        "id": "tJ2-HsbjNv27"
      },
      "source": [
        "agar peningkatan peluang perokok sesuai dengan informasi medis bahwa merokok dapat meningkatkan kadar protein dalam urin, kita kelompokkan kadar 4, 5, dan 6 ke dalam 1 kelompok."
      ]
    },
    {
      "cell_type": "code",
      "execution_count": null,
      "metadata": {
        "id": "N7nJini7OWlM"
      },
      "outputs": [],
      "source": [
        "def UP(Urine_protein):\n",
        "    if 1 <= Urine_protein <= 4:\n",
        "        return Urine_protein\n",
        "    elif Urine_protein > 4:\n",
        "        return 4\n",
        "\n",
        "df_train['UP_1'] = df_train['Urine protein'].apply(UP)"
      ]
    },
    {
      "cell_type": "code",
      "execution_count": null,
      "metadata": {
        "id": "3nlINkaOP5pA"
      },
      "outputs": [],
      "source": [
        "smoker_per_UP_1 = df_train.groupby('UP_1')['smoking'].sum()\n",
        "smoker_per_UP_1"
      ]
    },
    {
      "cell_type": "code",
      "execution_count": null,
      "metadata": {
        "id": "metA-thjQP5g"
      },
      "outputs": [],
      "source": [
        "total_per_UP_1 = df_train['UP_1'].value_counts()\n",
        "total_per_UP_1"
      ]
    },
    {
      "cell_type": "code",
      "execution_count": null,
      "metadata": {
        "id": "tBJoze_iQMg1"
      },
      "outputs": [],
      "source": [
        "percentage_smoker_by_UP_1 = (smoker_per_UP_1/total_per_UP_1)\n",
        "percentage_smoker_by_UP_1"
      ]
    },
    {
      "cell_type": "code",
      "execution_count": null,
      "metadata": {
        "id": "G1jReKJFRJoI"
      },
      "outputs": [],
      "source": [
        "percentage_map_9 = percentage_smoker_by_UP_1.to_dict()"
      ]
    },
    {
      "cell_type": "code",
      "execution_count": null,
      "metadata": {
        "id": "kx_rt17mRdEa"
      },
      "outputs": [],
      "source": [
        "df_train['%smoker_UP_1'] = df_train['UP_1'].map(percentage_map_9)"
      ]
    },
    {
      "cell_type": "code",
      "execution_count": null,
      "metadata": {
        "id": "nDpzkwVIYXGp"
      },
      "outputs": [],
      "source": [
        "df_train.info()"
      ]
    },
    {
      "cell_type": "markdown",
      "metadata": {
        "id": "EpVAf24FSmhs"
      },
      "source": [
        "## serum creatinine"
      ]
    },
    {
      "cell_type": "markdown",
      "metadata": {
        "id": "4etLWZIlW7Cp"
      },
      "source": [
        "Rendah: Di bawah 0.74 mg/dL\n",
        "Normal: 0.74 - 1.35 mg/dL\n",
        "Tinggi: Di atas 1.35 mg/dL\n",
        "\n",
        "Sumber: https://www.mayoclinic.org/tests-procedures/creatinine-test/about/pac-20384646#:~:text=Serum%20creatinine%20level%20*%20For%20adult%20men%2C,to%201.04%20mg/dL%20(52.2%20to%2091.9%20mmol/L)."
      ]
    },
    {
      "cell_type": "code",
      "execution_count": null,
      "metadata": {
        "id": "zKU9jsFkT7_i"
      },
      "outputs": [],
      "source": [
        "smoker_per_SC = df_train.groupby('serum creatinine')['smoking'].sum()\n",
        "smoker_per_SC"
      ]
    },
    {
      "cell_type": "code",
      "execution_count": null,
      "metadata": {
        "id": "4ia0lCz6XQoF"
      },
      "outputs": [],
      "source": [
        "def SC(serum_creatinine):\n",
        "    if serum_creatinine < 0.75:\n",
        "        return 1 # low\n",
        "    elif 0.74 <= serum_creatinine <= 1.35:\n",
        "        return 2 # normal\n",
        "    elif serum_creatinine > 1.35:\n",
        "        return 3 # high\n",
        "\n",
        "df_train['SC_catg'] = df_train['serum creatinine'].apply(SC)"
      ]
    },
    {
      "cell_type": "code",
      "execution_count": null,
      "metadata": {
        "id": "vg_iTQkpZNFi"
      },
      "outputs": [],
      "source": [
        "# melihat jumlah perokok per SC category\n",
        "smoker_per_SC_catg = df_train.groupby('SC_catg')['smoking'].sum()\n",
        "smoker_per_SC_catg"
      ]
    },
    {
      "cell_type": "code",
      "execution_count": null,
      "metadata": {
        "id": "xDWbQ1KTZ097"
      },
      "outputs": [],
      "source": [
        "total_per_SC_catg = df_train['SC_catg'].value_counts()\n",
        "total_per_SC_catg"
      ]
    },
    {
      "cell_type": "code",
      "execution_count": null,
      "metadata": {
        "id": "d4emGeX5aOns"
      },
      "outputs": [],
      "source": [
        "percentage_smoker_by_SC_catg = (smoker_per_SC_catg/total_per_SC_catg)\n",
        "percentage_smoker_by_SC_catg"
      ]
    },
    {
      "cell_type": "code",
      "execution_count": null,
      "metadata": {
        "id": "E1AwnBLwdZ4b"
      },
      "outputs": [],
      "source": [
        "percentage_map_10 = percentage_smoker_by_SC_catg.to_dict()"
      ]
    },
    {
      "cell_type": "code",
      "execution_count": null,
      "metadata": {
        "id": "-61SM3SwdCg6"
      },
      "outputs": [],
      "source": [
        "df_train['%smoker_SC'] = df_train['SC_catg'].map(percentage_map_10)"
      ]
    },
    {
      "cell_type": "code",
      "execution_count": null,
      "metadata": {
        "id": "K0CLv4kF-ut6"
      },
      "outputs": [],
      "source": [
        "df_train.info()"
      ]
    },
    {
      "cell_type": "code",
      "execution_count": null,
      "metadata": {
        "id": "PKS2rBS6d_is"
      },
      "outputs": [],
      "source": [
        "#df_train.to_csv('/content/drive/MyDrive/2. Mechine Learning/Kelas ML/PROJECT/FINAL Project: Smoker Detector/df_train.csv')"
      ]
    },
    {
      "cell_type": "code",
      "execution_count": null,
      "metadata": {
        "id": "ZH6U57pWfo6K"
      },
      "outputs": [],
      "source": [
        "#df_train = pd.read_csv('/content/drive/MyDrive/2. Mechine Learning/Kelas ML/PROJECT/FINAL Project: Smoker Detector/df_train.csv')"
      ]
    },
    {
      "cell_type": "code",
      "execution_count": null,
      "metadata": {
        "id": "sDs4GAaYkWfB"
      },
      "outputs": [],
      "source": [
        "df_train.info()"
      ]
    },
    {
      "cell_type": "markdown",
      "metadata": {
        "id": "2ufizqPkjqN4"
      },
      "source": [
        "## AST\n",
        "AST (Aspartate Aminotransferase), juga dikenal sebagai SGOT (Serum Glutamic-Oxaloacetic Transaminase), adalah **enzim yang terutama ditemukan di hati, jantung, otot, ginjal, dan otak**. Dalam jumlah kecil, AST biasanya hadir dalam darah. Namun, ketika sel-sel di organ-organ ini rusak, AST dapat bocor ke dalam aliran darah, menyebabkan peningkatan kadar AST dalam serum.\n",
        "\n",
        "Peningkatan Kadar AST: Beberapa studi observasional menunjukkan bahwa perokok cenderung memiliki kadar AST serum yang sedikit lebih tinggi dibandingkan dengan bukan perokok.\n",
        "\n",
        "Standart: 10 - 40 UI/L\n",
        "\n",
        "Sumber: https://prestigeer.com/blog/read-interpret-liver-function-test/\n",
        "\n"
      ]
    },
    {
      "cell_type": "code",
      "execution_count": null,
      "metadata": {
        "id": "0SMwEz9cjpeR"
      },
      "outputs": [],
      "source": [
        "# min dan max\n",
        "min_AST = df_train['AST'].min()\n",
        "min_AST"
      ]
    },
    {
      "cell_type": "code",
      "execution_count": null,
      "metadata": {
        "id": "f0IHcgThmrZI"
      },
      "outputs": [],
      "source": [
        "max_AST = df_train['AST'].max()\n",
        "max_AST"
      ]
    },
    {
      "cell_type": "code",
      "execution_count": null,
      "metadata": {
        "id": "scbSLLKVV8v7"
      },
      "outputs": [],
      "source": [
        "smoker_per_AST = df_train.groupby('AST')['smoking'].sum()\n",
        "smoker_per_AST"
      ]
    },
    {
      "cell_type": "code",
      "execution_count": null,
      "metadata": {
        "id": "o23UKEBC9E-V"
      },
      "outputs": [],
      "source": [
        "def AST_func(AST):\n",
        "    if AST < 10:\n",
        "        return 1 # low\n",
        "    elif 10 <= AST <= 40:\n",
        "        return 2 # normal\n",
        "    elif AST > 40:\n",
        "        return 3 # high\n",
        "\n",
        "df_train['AST_catg'] = df_train['AST'].apply(AST_func)"
      ]
    },
    {
      "cell_type": "code",
      "execution_count": null,
      "metadata": {
        "id": "iT2UPBtB8Fc2"
      },
      "outputs": [],
      "source": [
        "smoker_per_AST_catg = df_train.groupby('AST_catg')['smoking'].sum()\n",
        "smoker_per_AST_catg"
      ]
    },
    {
      "cell_type": "code",
      "execution_count": null,
      "metadata": {
        "id": "ZX1RB8MdZGkM"
      },
      "outputs": [],
      "source": [
        "total_per_AST_catg  = df_train['AST_catg'].value_counts()\n",
        "total_per_AST_catg"
      ]
    },
    {
      "cell_type": "code",
      "execution_count": null,
      "metadata": {
        "id": "0AF2pa6sZUHE"
      },
      "outputs": [],
      "source": [
        "percentage_smoker_by_AST_catg = (smoker_per_AST_catg/total_per_AST_catg)\n",
        "percentage_smoker_by_AST_catg"
      ]
    },
    {
      "cell_type": "code",
      "execution_count": null,
      "metadata": {
        "id": "PQxL9jiKZcza"
      },
      "outputs": [],
      "source": [
        "percentage_map_11 = percentage_smoker_by_AST_catg.to_dict()"
      ]
    },
    {
      "cell_type": "code",
      "execution_count": null,
      "metadata": {
        "id": "Ycwxtdx5ZmeC"
      },
      "outputs": [],
      "source": [
        "df_train['%smoker_AST_catg'] = df_train['AST_catg'].map(percentage_map_11)"
      ]
    },
    {
      "cell_type": "code",
      "execution_count": null,
      "metadata": {
        "id": "o4PGIgCFZxXE"
      },
      "outputs": [],
      "source": [
        "df_train.head()"
      ]
    },
    {
      "cell_type": "markdown",
      "metadata": {
        "id": "8L3LcqKTkKtK"
      },
      "source": [
        "## ALT\n",
        "\n",
        "ALT adalah singkatan dari Alanine Aminotransferase. Ini adalah enzim lain yang terutama ditemukan di sel-sel hati, tetapi juga dalam jumlah kecil di ginjal dan otot. Seperti AST, ALT adalah enzim intraseluler, dan kadar ALT dalam darah biasanya rendah. Ketika terjadi kerusakan pada hati, sel-sel hati melepaskan ALT ke dalam aliran darah, menyebabkan kadar ALT dalam darah meningkat. Oleh karena itu, tes ALT sering digunakan sebagai indikator kerusakan hati.\n",
        "\n",
        "Secara umum, merokok dapat dikaitkan dengan kadar ALT yang lebih tinggi, meskipun peningkatannya mungkin seringkali ringan dan tidak spesifik. Peningkatan kadar ALT pada perokok lebih mungkin terjadi jika mereka memiliki kondisi hati yang mendasari (seperti NAFLD) yang diperburuk oleh merokok, atau jika merokok telah menyebabkan efek sistemik yang mempengaruhi hati. (Gemini)\n",
        "\n",
        "The normal range is 4 to 36 U/L.\n",
        "\n",
        "Sumber: https://www.ucsfhealth.org/medical-tests/alanine-transaminase-%28alt%29-blood-test"
      ]
    },
    {
      "cell_type": "code",
      "execution_count": null,
      "metadata": {
        "id": "ZlwSMkQob4hK"
      },
      "outputs": [],
      "source": [
        "def ALT_func(ALT):\n",
        "    if ALT < 4:\n",
        "        return 1 # low\n",
        "    elif 4 <= ALT <= 36:\n",
        "        return 2 # normal\n",
        "    elif ALT > 36:\n",
        "        return 3 # high\n",
        "\n",
        "df_train['ALT_catg'] = df_train['ALT'].apply(ALT_func)"
      ]
    },
    {
      "cell_type": "code",
      "execution_count": null,
      "metadata": {
        "id": "isz3kvms8BQW"
      },
      "outputs": [],
      "source": [
        "smoker_per_ALT_catg = df_train.groupby('ALT_catg')['smoking'].sum()\n",
        "smoker_per_ALT_catg"
      ]
    },
    {
      "cell_type": "code",
      "execution_count": null,
      "metadata": {
        "id": "MwtfGfcVcGH6"
      },
      "outputs": [],
      "source": [
        "total_per_ALT_catg = df_train['ALT_catg'].value_counts()\n",
        "total_per_ALT_catg"
      ]
    },
    {
      "cell_type": "code",
      "execution_count": null,
      "metadata": {
        "id": "QIF-AHH8cRVJ"
      },
      "outputs": [],
      "source": [
        "percentage_smoker_by_ALT_catg = (smoker_per_ALT_catg/total_per_ALT_catg)\n",
        "percentage_smoker_by_ALT_catg"
      ]
    },
    {
      "cell_type": "code",
      "execution_count": null,
      "metadata": {
        "id": "8bsaT72ucZni"
      },
      "outputs": [],
      "source": [
        "percentage_map_12 = percentage_smoker_by_ALT_catg.to_dict()"
      ]
    },
    {
      "cell_type": "code",
      "execution_count": null,
      "metadata": {
        "id": "Bs6wx7sxcfIc"
      },
      "outputs": [],
      "source": [
        "df_train['%smoker_ALT_catg'] = df_train['ALT_catg'].map(percentage_map_12)"
      ]
    },
    {
      "cell_type": "code",
      "execution_count": null,
      "metadata": {
        "id": "-TdMvSgscsWT"
      },
      "outputs": [],
      "source": [
        "df_train.info()"
      ]
    },
    {
      "cell_type": "markdown",
      "metadata": {
        "id": "BAotx_8kkMfl"
      },
      "source": [
        "##Gtp\n",
        "\n",
        "Gtp adalah singkatan dari Gamma-glutamyl transferase (γ-GTP) adalah enzim yang terdapat di banyak organ tubuh, tetapi konsentrasi tertingginya ada di hati. Enzim ini berperan dalam metabolisme obat dan detoksifikasi.\n",
        "\n",
        "Beberapa penelitian menunjukkan bahwa perokok cenderung memiliki kadar γ-GTP yang lebih tinggi dibandingkan dengan bukan perokok.\n",
        "\n",
        "Pria: 8 hingga 60 Unit per Liter (U/L)\n",
        "\n",
        "Sumber: https://pmc.ncbi.nlm.nih.gov/articles/PMC11896896/"
      ]
    },
    {
      "cell_type": "code",
      "execution_count": null,
      "metadata": {
        "id": "EjcHzYjUeoZb"
      },
      "outputs": [],
      "source": [
        "def gtp(Gtp):\n",
        "    if Gtp < 8:\n",
        "        return 1 # low\n",
        "    elif 8 <= Gtp <= 60:\n",
        "        return 2 # normal\n",
        "    elif Gtp > 60:\n",
        "        return 3 # high\n",
        "\n",
        "df_train['Gtp_catg'] = df_train['Gtp'].apply(gtp)"
      ]
    },
    {
      "cell_type": "code",
      "execution_count": null,
      "metadata": {
        "id": "k7vi6tvCeyX8"
      },
      "outputs": [],
      "source": [
        "smoker_per_Gtp_catg = df_train.groupby('Gtp_catg')['smoking'].sum()\n",
        "smoker_per_Gtp_catg"
      ]
    },
    {
      "cell_type": "code",
      "execution_count": null,
      "metadata": {
        "id": "jnxWfzeze2VR"
      },
      "outputs": [],
      "source": [
        "total_per_Gtp_catg = df_train['Gtp_catg'].value_counts()\n",
        "total_per_Gtp_catg"
      ]
    },
    {
      "cell_type": "code",
      "execution_count": null,
      "metadata": {
        "id": "RL7mtxuse_2i"
      },
      "outputs": [],
      "source": [
        "percentage_smoker_by_Gtp_catg = (smoker_per_Gtp_catg/total_per_Gtp_catg)\n",
        "percentage_smoker_by_Gtp_catg"
      ]
    },
    {
      "cell_type": "markdown",
      "metadata": {
        "id": "WDUPBmCBfKGr"
      },
      "source": [
        "Info:\n",
        "1. perokok cenderung memiliki ciri kadar Gtp yang tinggi"
      ]
    },
    {
      "cell_type": "code",
      "execution_count": null,
      "metadata": {
        "id": "e_5wfVc7fJYq"
      },
      "outputs": [],
      "source": [
        "percentage_map_13 = percentage_smoker_by_Gtp_catg.to_dict()"
      ]
    },
    {
      "cell_type": "code",
      "execution_count": null,
      "metadata": {
        "id": "ZWicWZJCfIT1"
      },
      "outputs": [],
      "source": [
        "df_train['%smoker_Gtp_catg'] = df_train['Gtp_catg'].map(percentage_map_13)"
      ]
    },
    {
      "cell_type": "code",
      "execution_count": null,
      "metadata": {
        "id": "kbqXH0YufaNN"
      },
      "outputs": [],
      "source": [
        "df_train.head()"
      ]
    },
    {
      "cell_type": "code",
      "execution_count": null,
      "metadata": {
        "id": "il23T_R3f1Ty"
      },
      "outputs": [],
      "source": [
        "df_train.info()"
      ]
    },
    {
      "cell_type": "markdown",
      "metadata": {
        "id": "z5mLip1GkQCn"
      },
      "source": [
        "## dantal caries"
      ]
    },
    {
      "cell_type": "code",
      "execution_count": null,
      "metadata": {
        "id": "E85lU7p2fmHZ"
      },
      "outputs": [],
      "source": [
        "smoker_per_DC = df_train.groupby('dental caries')['smoking'].sum()\n",
        "smoker_per_DC"
      ]
    },
    {
      "cell_type": "code",
      "execution_count": null,
      "metadata": {
        "id": "LC5pa3kGf-o4"
      },
      "outputs": [],
      "source": [
        "total_by_DC = df_train['dental caries'].value_counts()\n",
        "total_by_DC"
      ]
    },
    {
      "cell_type": "code",
      "execution_count": null,
      "metadata": {
        "id": "Q1tea0-mgDWL"
      },
      "outputs": [],
      "source": [
        "percentage_smoker_per_DC = (smoker_per_DC/total_by_DC)\n",
        "percentage_smoker_per_DC"
      ]
    },
    {
      "cell_type": "markdown",
      "metadata": {
        "id": "I79C43n2gQdy"
      },
      "source": [
        "Info:\n",
        "1. orang perokok cenderung memiliki karies gigi"
      ]
    },
    {
      "cell_type": "code",
      "execution_count": null,
      "metadata": {
        "id": "7j9SoyuXgWCo"
      },
      "outputs": [],
      "source": [
        "perecentage_map_14 = percentage_smoker_per_DC.to_dict()"
      ]
    },
    {
      "cell_type": "code",
      "execution_count": null,
      "metadata": {
        "id": "6h9tgaC6gaJZ"
      },
      "outputs": [],
      "source": [
        "df_train['%smoker_DC'] = df_train['dental caries'].map(perecentage_map_14)"
      ]
    },
    {
      "cell_type": "code",
      "execution_count": null,
      "metadata": {
        "id": "QyyZTOsrcrTA"
      },
      "outputs": [],
      "source": [
        "df_train.info()"
      ]
    },
    {
      "cell_type": "code",
      "execution_count": null,
      "metadata": {
        "id": "ShZ61w0jghV4"
      },
      "outputs": [],
      "source": [
        "df_train.to_csv('/content/drive/MyDrive/2. Mechine Learning/Kelas ML/PROJECT/FINAL Project: Smoker Detector/df_train.csv', index=False)"
      ]
    },
    {
      "cell_type": "code",
      "execution_count": null,
      "metadata": {
        "id": "n3c4vDAFm2ln"
      },
      "outputs": [],
      "source": [
        "df_train = pd.read_csv('/content/drive/MyDrive/2. Mechine Learning/Kelas ML/PROJECT/FINAL Project: Smoker Detector/df_train.csv')"
      ]
    },
    {
      "cell_type": "code",
      "execution_count": null,
      "metadata": {
        "id": "FMSzfx9mhMFO"
      },
      "outputs": [],
      "source": [
        "df_train.head()"
      ]
    },
    {
      "cell_type": "code",
      "execution_count": null,
      "metadata": {
        "id": "guxmAVzqW98L"
      },
      "outputs": [],
      "source": [
        "df_train.info()"
      ]
    },
    {
      "cell_type": "code",
      "execution_count": null,
      "metadata": {
        "id": "GTfGbfvvA-be"
      },
      "outputs": [],
      "source": [
        "min_hearing_left = df_train['hearing(left)'].min()\n",
        "min_hearing_left"
      ]
    },
    {
      "cell_type": "code",
      "execution_count": null,
      "metadata": {
        "id": "lExxQ9s0BIkh"
      },
      "outputs": [],
      "source": [
        "max_hearing_left = df_train['hearing(left)'].max()\n",
        "max_hearing_left"
      ]
    },
    {
      "cell_type": "code",
      "execution_count": null,
      "metadata": {
        "id": "8kG2ZW0BBRrm"
      },
      "outputs": [],
      "source": [
        "hearing_right = df_train['hearing(right)'].unique()\n",
        "hearing_right"
      ]
    },
    {
      "cell_type": "markdown",
      "metadata": {
        "id": "3UsriO6q63hg"
      },
      "source": [
        "#FE & Scaling"
      ]
    },
    {
      "cell_type": "markdown",
      "source": [
        "##Drop temporal column"
      ],
      "metadata": {
        "id": "4JZr0ta4MdUa"
      }
    },
    {
      "cell_type": "code",
      "execution_count": null,
      "metadata": {
        "id": "zJhHsF_BsD4t"
      },
      "outputs": [],
      "source": [
        "hapus = ['age_catg', 'BMI_catg', 'ESL_catg', 'ESR_catg', 'BS_catg', 'chol_catg', 'HDL_catg',\n",
        "         'LDL_catg', 'tri_catg', 'hemo_catg', 'SC_catg', 'AST_catg', 'ALT_catg', 'Gtp_catg'\n",
        "         ]\n",
        "df_train = df_train.drop(columns=hapus).copy()"
      ]
    },
    {
      "cell_type": "code",
      "execution_count": null,
      "metadata": {
        "id": "3nD1GvbmT__j"
      },
      "outputs": [],
      "source": [
        "df.info()"
      ]
    },
    {
      "cell_type": "markdown",
      "metadata": {
        "id": "lrW_83zDIEhY"
      },
      "source": [
        "#Scaling\n"
      ]
    },
    {
      "cell_type": "markdown",
      "metadata": {
        "id": "GdJKI0VecGh-"
      },
      "source": [
        "* Scaling hanya perlu dilakukan di variabel independent (X), variabel target tidak perlu. apalagi yg variabel targetnya 0 atau 1.\n",
        "\n",
        "     Jenis2 Scaling:\n",
        "     1. StandardScaler() / (**Standarisasi**): megubah data mejadi rata-rata 0 dan standar deviasi 1. Ini cocok untuk algoritma yang mengasumsikan distribusi normal atau sensitif terhadap skala fitur (misalnya, Support Vector Machines, Logistic Regression, Neural Networks).\n",
        "\n",
        "     2. MinMaxScaler() (**Normalisasi**): MinMaxScaler mengubah fitur dengan menskalakannya ke rentang tertentu, biasanya antara 0 dan 1. Ini berguna untuk algoritma yang tidak mengasumsikan distribusi tertentu, atau ketika Anda ingin menjaga nilai-nilai dalam rentang yang terbatas (misalnya, Neural Networks, K-Nearest Neighbors).\n",
        "\n"
      ]
    },
    {
      "cell_type": "code",
      "execution_count": null,
      "metadata": {
        "id": "_r3OzoiC69Dt"
      },
      "outputs": [],
      "source": [
        "from sklearn.preprocessing import MinMaxScaler\n",
        "import joblib"
      ]
    },
    {
      "cell_type": "code",
      "execution_count": null,
      "metadata": {
        "id": "PotcSI78fVCD"
      },
      "outputs": [],
      "source": [
        "# --- 2. Pisahkan Fitur (X) dan Target (y) ---\n",
        "# Fitur (X) adalah semua kolom kecuali 'smoking'\n",
        "X_train = df_train.drop('smoking', axis=1)"
      ]
    },
    {
      "cell_type": "code",
      "execution_count": null,
      "metadata": {
        "id": "jMcI3GjIfXkr"
      },
      "outputs": [],
      "source": [
        "# Target (y) adalah kolom 'smoking'\n",
        "y_train = df_train['smoking']"
      ]
    },
    {
      "cell_type": "code",
      "execution_count": null,
      "metadata": {
        "id": "50CBDSPGfmnV"
      },
      "outputs": [],
      "source": [
        "# --- 3. Inisialisasi Normalisasi ---\n",
        "scaler = MinMaxScaler()"
      ]
    },
    {
      "cell_type": "code",
      "execution_count": null,
      "metadata": {
        "id": "jwl0quKJf0-c"
      },
      "outputs": [],
      "source": [
        "# --- 4. Latih Scaler pada Fitur Pelatihan (X_train) ---\n",
        "# Proses .fit() akan menghitung min dan max dari setiap kolom fitur di X_train\n",
        "scaler.fit(X_train)"
      ]
    },
    {
      "cell_type": "code",
      "execution_count": null,
      "metadata": {
        "id": "ks_Fe7nDgqWv"
      },
      "outputs": [],
      "source": [
        "# --- 5. Simpan Scaler (PENTING untuk digunakan nanti di aplikasi web) ---\n",
        "# menyimpan scaler ini agar bisa digunakan untuk menormalisasi\n",
        "# input data baru dari formulir web\n",
        "import joblib\n",
        "scaler_filename = '/content/drive/MyDrive/2. Mechine Learning/Kelas ML/PROJECT/FINAL Project: Smoker Detector/Model/MinMaxScaler.joblib'\n",
        "joblib.dump(scaler, scaler_filename)\n",
        "print(f\"Model disimpan di: {scaler_filename}\")\n"
      ]
    },
    {
      "cell_type": "code",
      "execution_count": null,
      "metadata": {
        "id": "xMF7FFDKZYGv"
      },
      "outputs": [],
      "source": [
        "# --- 6. Transformasi Fitur Pelatihan (X_train) ---\n",
        "# Proses .transform() akan menerapkan normalisasi menggunakan min dan max yang dihitung\n",
        "# pada langkah .fit()\n",
        "X_train_scaled_np = scaler.transform(X_train)"
      ]
    },
    {
      "cell_type": "code",
      "execution_count": null,
      "metadata": {
        "id": "3_0mDxt08PRa"
      },
      "outputs": [],
      "source": [
        "# Mengubah hasil transformasi (NumPy array) kembali menjadi DataFrame\n",
        "X_train_scaled = pd.DataFrame(X_train_scaled_np, columns=X_train.columns, index=X_train.index)\n",
        "\n",
        "X_train_scaled.head()"
      ]
    },
    {
      "cell_type": "code",
      "execution_count": null,
      "metadata": {
        "id": "NkPO21M-8a-v"
      },
      "outputs": [],
      "source": [
        "# --- 7. (Opsional) Menggabungkan kembali X_train_scaled dengan y_train ---\n",
        "# Jika Anda perlu DataFrame lengkap yang sudah di-scale fitur-fiturnya\n",
        "df_train_normalized = pd.concat([X_train_scaled, y_train], axis=1)\n",
        "\n",
        "df_train_normalized.head()"
      ]
    },
    {
      "cell_type": "code",
      "execution_count": null,
      "metadata": {
        "id": "zgbupDXM2eJn"
      },
      "outputs": [],
      "source": [
        "df_train_normalized.info()"
      ]
    },
    {
      "cell_type": "markdown",
      "metadata": {
        "id": "3MNOuJGCoYj2"
      },
      "source": [
        "#2. Train Test (apply scaling di data Test)\n"
      ]
    },
    {
      "cell_type": "code",
      "execution_count": null,
      "metadata": {
        "id": "z44rVLrNZwbL"
      },
      "outputs": [],
      "source": [
        "df = df_train_normalized"
      ]
    },
    {
      "cell_type": "code",
      "execution_count": null,
      "metadata": {
        "id": "4QodtEI9kryk"
      },
      "outputs": [],
      "source": [
        "from sklearn.model_selection import train_test_split"
      ]
    },
    {
      "cell_type": "code",
      "execution_count": null,
      "metadata": {
        "id": "scOWB1TvEwE2"
      },
      "outputs": [],
      "source": [
        "df.info()"
      ]
    },
    {
      "cell_type": "code",
      "execution_count": null,
      "metadata": {
        "id": "JWsQat5XkyZH"
      },
      "outputs": [],
      "source": [
        "X = df.drop('smoking', axis = 1)\n",
        "y = df['smoking']"
      ]
    },
    {
      "cell_type": "code",
      "execution_count": null,
      "metadata": {
        "id": "dMfy-uTYmYK-"
      },
      "outputs": [],
      "source": [
        "\n",
        "# 1. split data into Train and Temp\n",
        "#Temp is used as variabel to store Validation and Test\n",
        "X_train, X_temp, y_train, y_temp = train_test_split(    #train 70 % dan temp 30 %\n",
        "    X, y, test_size=0.3, random_state=42, stratify=y    #stratify = y, artinya mempertahankan proporsi nilai unik (1 dan 0) dalam pemisahan data menjadi data train, temp, dan test\n",
        ")\n",
        "\n",
        "X_val, X_test, y_val, y_test = train_test_split(        # val\n",
        "    X_temp, y_temp, test_size=0.5, random_state=42, stratify=y_temp\n",
        ")\n"
      ]
    },
    {
      "cell_type": "markdown",
      "metadata": {
        "id": "0CoxHJ7Znz3C"
      },
      "source": [
        "# Modelling"
      ]
    },
    {
      "cell_type": "markdown",
      "metadata": {
        "id": "FDwJuiRnMM0W"
      },
      "source": [
        "## Logistic Regrassion"
      ]
    },
    {
      "cell_type": "code",
      "execution_count": null,
      "metadata": {
        "id": "i5iiSZbsMRS4"
      },
      "outputs": [],
      "source": [
        "from sklearn.linear_model import LogisticRegression\n",
        "\n",
        "model_logistic = LogisticRegression(max_iter=2000)\n",
        "model_logistic.fit(X_train, y_train)"
      ]
    },
    {
      "cell_type": "markdown",
      "metadata": {
        "id": "5btnriSk-gk0"
      },
      "source": [
        "Sebelumnya menulis kode ini:\n",
        "from sklearn.linear_model import LogisticRegression\n",
        "\n",
        "model_logistic = LogisticRegression(max_iter=1000)\n",
        "model_logistic.fit(X_train, y_train)\n",
        "\n",
        "tapi ternyata belum mencapai zona convergensi\n",
        "![image.png](data:image/png;base64,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)\n",
        "\n",
        "alternatifnya\n",
        "* menerapkan scaling pada data\n",
        "* meningkatkan iterasi\n",
        "* mencoba alternatif sover selain lbfgs (mode default), seperti:\n",
        "'liblinear' (bagus untuk dataset kecil dan jika Anda memiliki banyak fitur)\n",
        "'saga' (bagus untuk dataset besar dan mendukung L1 regularization)\n",
        "'newton-cg', 'sag'"
      ]
    },
    {
      "cell_type": "code",
      "execution_count": null,
      "metadata": {
        "id": "OkbV7nNnXQJ9"
      },
      "outputs": [],
      "source": [
        "from sklearn.metrics import precision_score, recall_score, f1_score, roc_auc_score, roc_curve, confusion_matrix, classification_report, accuracy_score"
      ]
    },
    {
      "cell_type": "code",
      "execution_count": null,
      "metadata": {
        "id": "9rUbrALuX-oY"
      },
      "outputs": [],
      "source": [
        "# Lakukan prediksi pada data pengujian\n",
        "y_pred = model_logistic.predict(X_test)\n",
        "\n",
        "# Evaluasi model\n",
        "accuracy = accuracy_score(y_test, y_pred)\n",
        "print(f\"Akurasi Test: {accuracy}\")"
      ]
    },
    {
      "cell_type": "code",
      "execution_count": null,
      "metadata": {
        "id": "fpJuWFHDjM5x"
      },
      "outputs": [],
      "source": [
        "# 3. Dapatkan Probabilitas Prediksi untuk Data Uji\n",
        "y_pred_proba = model_logistic.predict_proba(X_test)[:, 1]  # Probabilitas kelas 1\n",
        "\n",
        "# 4. Hitung FPR, TPR, dan Threshold\n",
        "fpr, tpr, thresholds = roc_curve(y_test, y_pred_proba)\n",
        "\n",
        "# 5. Hitung AUC\n",
        "auc = roc_auc_score(y_test, y_pred_proba)\n",
        "\n",
        "# 6. Plot Kurva ROC\n",
        "plt.figure(figsize=(8, 8))\n",
        "plt.plot(fpr, tpr, color='darkorange', lw=2, label=f'ROC curve (AUC = {auc:.2f})')\n",
        "plt.plot([0, 1], [0, 1], color='navy', lw=2, linestyle='--')  # Garis acak\n",
        "plt.xlim([0.0, 1.0])\n",
        "plt.ylim([0.0, 1.05])\n",
        "plt.xlabel('False Positive Rate (FPR)')\n",
        "plt.ylabel('True Positive Rate (TPR)')\n",
        "plt.title('Receiver Operating Characteristic (ROC)')\n",
        "plt.legend(loc=\"lower right\")\n",
        "plt.show()"
      ]
    },
    {
      "cell_type": "markdown",
      "metadata": {
        "id": "fXr3M3hWMKu-"
      },
      "source": [
        "####Confusin Matrix"
      ]
    },
    {
      "cell_type": "code",
      "execution_count": null,
      "metadata": {
        "id": "5LYtZ5i9Mp2q"
      },
      "outputs": [],
      "source": [
        "from sklearn.metrics import ConfusionMatrixDisplay"
      ]
    },
    {
      "cell_type": "code",
      "execution_count": null,
      "metadata": {
        "id": "3-Ycz_31Cb77"
      },
      "outputs": [],
      "source": [
        "# --- Tambahkan ini: Hitung Confusion Matrix ---\n",
        "cm = confusion_matrix(y_test, y_pred)\n",
        "print(\"Confusion Matrix:\")\n",
        "print(cm)\n",
        "print(\"\\n\")"
      ]
    },
    {
      "cell_type": "code",
      "execution_count": null,
      "metadata": {
        "id": "OHiCpNTVMWF7"
      },
      "outputs": [],
      "source": [
        "# 5. Hitung Metrik Evaluasi\n",
        "accuracy = accuracy_score(y_test, y_pred)\n",
        "precision = precision_score(y_test, y_pred)\n",
        "recall = recall_score(y_test, y_pred)\n",
        "f1 = f1_score(y_test, y_pred)\n",
        "\n",
        "\n",
        "# 6. Visualisasikan Confusion Matrix\n",
        "plt.figure(figsize=(8, 6))\n",
        "heatmap = sns.heatmap(cm, annot=True, fmt='d', cmap='Blues',\n",
        "            xticklabels=['Non-Smoker', 'Smoker'],\n",
        "            yticklabels=['Non-Smoker', 'Smoker'])\n",
        "\n",
        "plt.xlabel('Predicted')\n",
        "plt.ylabel('Actual')\n",
        "plt.title('Confusion Matrix')\n",
        "plt.colorbar(heatmap.get_children()[0])  # Dapatkan mappable dari heatmap\n",
        "plt.text(0.05, -0.2, f'Accuracy: {accuracy:.2%}', fontsize=10)\n",
        "plt.text(0.05, -0.3, f'Precision: {precision:.2%}', fontsize=10)\n",
        "plt.text(0.05, -0.4, f'Recall: {recall:.2%}', fontsize=10)\n",
        "plt.text(0.05, -0.5, f'F1-Score: {f1:.2%}', fontsize=10)\n",
        "plt.show()"
      ]
    },
    {
      "cell_type": "code",
      "execution_count": null,
      "metadata": {
        "id": "PQGg41P3VopU"
      },
      "outputs": [],
      "source": [
        "# Print classification report (precision, recall, f1-score)\n",
        "print(\"Classification Report Logistic Regression:\\n\", classification_report(y_test, y_pred))\n",
        "print('---------------------------------------------------')\n",
        "# Confusion matrix to understand true positives, false positives, etc.\n",
        "cm = confusion_matrix(y_test, y_pred)\n",
        "cm_df = pd.DataFrame(cm, index=['Actual Non-Smoker', 'Actual Smoker'], columns=['Predicted Non-Smoker', 'Predicted Smoker'])\n",
        "print(\"Confusion Matrix:\\n\", cm_df )\n",
        "print('---------------------------------------------------')\n"
      ]
    },
    {
      "cell_type": "markdown",
      "metadata": {
        "id": "bFJVqHPLn4nb"
      },
      "source": [
        "## Random Forest"
      ]
    },
    {
      "cell_type": "code",
      "execution_count": null,
      "metadata": {
        "collapsed": true,
        "id": "yduIfc1xdY01"
      },
      "outputs": [],
      "source": [
        "!pip install optuna"
      ]
    },
    {
      "cell_type": "code",
      "execution_count": null,
      "metadata": {
        "id": "VEriA6c1baw7"
      },
      "outputs": [],
      "source": [
        "from sklearn.ensemble import RandomForestClassifier\n",
        "from sklearn.metrics import accuracy_score, classification_report, confusion_matrix\n",
        "import optuna"
      ]
    },
    {
      "cell_type": "markdown",
      "metadata": {
        "id": "F17ZVgHai7Xr"
      },
      "source": [
        "### Hyperparameter Tuning"
      ]
    },
    {
      "cell_type": "code",
      "execution_count": null,
      "metadata": {
        "id": "pzhUb5KDdsmr"
      },
      "outputs": [],
      "source": [
        "def objective(trial):\n",
        "    n_estimators = trial.suggest_int('n_estimators', 50, 200)\n",
        "    max_depth = trial.suggest_categorical('max_depth', [None, 10, 20, 30])\n",
        "    min_samples_split = trial.suggest_int('min_samples_split', 2, 10)\n",
        "    min_samples_leaf = trial.suggest_int('min_samples_leaf', 1, 5)\n",
        "\n",
        "    rf_classifier = RandomForestClassifier(\n",
        "        n_estimators=n_estimators,\n",
        "        max_depth=max_depth,\n",
        "        min_samples_split=min_samples_split,\n",
        "        min_samples_leaf=min_samples_leaf,\n",
        "        random_state=42\n",
        "    )\n",
        "\n",
        "    # Split data pelatihan untuk validasi awal\n",
        "    X_train_opt, X_val_opt, y_train_opt, y_val_opt = train_test_split(\n",
        "        X_train, y_train, test_size=0.2, random_state=42\n",
        "    )\n",
        "\n",
        "    rf_classifier.fit(X_train_opt, y_train_opt)\n",
        "    y_pred_val = rf_classifier.predict(X_val_opt)\n",
        "    accuracy = accuracy_score(y_val_opt, y_pred_val)  # Gunakan accuracy pada data validasi\n",
        "\n",
        "    return accuracy # Optuna akan memaksimalkan nilai accuracy\n",
        "\n",
        "\n",
        "study = optuna.create_study(direction='maximize')\n",
        "study.optimize(objective, n_trials=50) # Anda dapat mengubah n_trials sesuai kebutuhan\n",
        "\n",
        "# Dapatkan parameter terbaik dari Optuna\n",
        "best_params = study.best_params\n",
        "print(\"Parameter terbaik:\", best_params)"
      ]
    },
    {
      "cell_type": "markdown",
      "metadata": {
        "id": "V09NpSsEjGjs"
      },
      "source": [
        "### Modelling Data"
      ]
    },
    {
      "cell_type": "code",
      "execution_count": null,
      "metadata": {
        "id": "876bGbKGbZsc"
      },
      "outputs": [],
      "source": [
        "# Inisialisasi model Random Forest dengan hyperparameter yang diberikan\n",
        "rf_classifier = RandomForestClassifier(\n",
        "    n_estimators=192,\n",
        "    max_depth=20,\n",
        "    min_samples_split=9,\n",
        "    min_samples_leaf=5,\n",
        "    random_state=42  # Untuk hasil yang dapat direproduksi\n",
        ")\n",
        "\n",
        "# Latih model\n",
        "rf_classifier.fit(X_train, y_train)"
      ]
    },
    {
      "cell_type": "markdown",
      "metadata": {
        "id": "QHG77wdkY49x"
      },
      "source": [
        "#### ROF AUC"
      ]
    },
    {
      "cell_type": "code",
      "execution_count": null,
      "metadata": {
        "id": "hO8iX7GsY3I5"
      },
      "outputs": [],
      "source": [
        "# 3. Dapatkan Probabilitas Prediksi untuk Data Uji\n",
        "y_pred_proba =rf_classifier.predict_proba(X_test)[:, 1]  # Probabilitas kelas 1\n",
        "\n",
        "# 4. Hitung FPR, TPR, dan Threshold\n",
        "fpr, tpr, thresholds = roc_curve(y_test, y_pred_proba)\n",
        "\n",
        "# 5. Hitung AUC\n",
        "auc = roc_auc_score(y_test, y_pred_proba)\n",
        "\n",
        "# 6. Plot Kurva ROC\n",
        "plt.figure(figsize=(8, 8))\n",
        "plt.plot(fpr, tpr, color='darkorange', lw=2, label=f'ROC curve (AUC = {auc:.2f})')\n",
        "plt.plot([0, 1], [0, 1], color='navy', lw=2, linestyle='--')  # Garis acak\n",
        "plt.xlim([0.0, 1.0])\n",
        "plt.ylim([0.0, 1.05])\n",
        "plt.xlabel('False Positive Rate (FPR)')\n",
        "plt.ylabel('True Positive Rate (TPR)')\n",
        "plt.title('Receiver Operating Characteristic (ROC)')\n",
        "plt.legend(loc=\"lower right\")\n",
        "plt.show()"
      ]
    },
    {
      "cell_type": "markdown",
      "metadata": {
        "id": "YFMk3mfZZprx"
      },
      "source": [
        "### Confusin Matrix"
      ]
    },
    {
      "cell_type": "code",
      "execution_count": null,
      "metadata": {
        "id": "J6O7yFkZaFOm"
      },
      "outputs": [],
      "source": [
        "from sklearn.metrics import ConfusionMatrixDisplay"
      ]
    },
    {
      "cell_type": "code",
      "execution_count": null,
      "metadata": {
        "id": "aRLJkUkIZfy_"
      },
      "outputs": [],
      "source": [
        "# Lakukan prediksi pada data pengujian\n",
        "y_pred = rf_classifier.predict(X_test)\n",
        "\n",
        "# Evaluasi model\n",
        "accuracy = accuracy_score(y_test, y_pred)\n",
        "print(f\"Akurasi Test: {accuracy}\")"
      ]
    },
    {
      "cell_type": "code",
      "execution_count": null,
      "metadata": {
        "id": "7joV5Fr3dC4J"
      },
      "outputs": [],
      "source": [
        "# Print classification report (precision, recall, f1-score)\n",
        "print(\"Classification Report Logistic Regression:\\n\", classification_report(y_test, y_pred))\n",
        "print('---------------------------------------------------')\n",
        "# Confusion matrix to understand true positives, false positives, etc.\n",
        "cm = confusion_matrix(y_test, y_pred)\n",
        "cm_df = pd.DataFrame(cm, index=['Actual Non-Smoker', 'Actual Smoker'], columns=['Predicted Non-Smoker', 'Predicted Smoker'])\n",
        "print(\"Confusion Matrix:\\n\", cm_df )\n",
        "print('---------------------------------------------------')"
      ]
    },
    {
      "cell_type": "code",
      "execution_count": null,
      "metadata": {
        "id": "MwkOHtyRZqRg"
      },
      "outputs": [],
      "source": [
        "# 5. Hitung Metrik Evaluasi\n",
        "accuracy = accuracy_score(y_test, y_pred)\n",
        "precision = precision_score(y_test, y_pred)\n",
        "recall = recall_score(y_test, y_pred)\n",
        "f1 = f1_score(y_test, y_pred)\n",
        "\n",
        "# 6. Visualisasikan Confusion Matrix\n",
        "plt.figure(figsize=(8, 6))\n",
        "\n",
        "heatmap = sns.heatmap(cm, annot=True, fmt='d', cmap='Blues',\n",
        "            xticklabels=['Non-Smoker', 'Smoker'],\n",
        "            yticklabels=['Non-Smoker', 'Smoker'])\n",
        "plt.xlabel('Predicted')\n",
        "plt.ylabel('Actual')\n",
        "plt.title('Confusion Matrix')\n",
        "plt.text(0.05, -0.2, f'Accuracy: {accuracy:.2%}', fontsize=10)\n",
        "plt.text(0.05, -0.3, f'Precision: {precision:.2%}', fontsize=10)\n",
        "plt.text(0.05, -0.4, f'Recall: {recall:.2%}', fontsize=10)\n",
        "plt.text(0.05, -0.5, f'F1-Score: {f1:.2%}', fontsize=10)\n",
        "plt.show()"
      ]
    },
    {
      "cell_type": "markdown",
      "metadata": {
        "id": "XEIWp5CdjsTR"
      },
      "source": [
        "### Evaluation Matrix"
      ]
    },
    {
      "cell_type": "code",
      "execution_count": null,
      "metadata": {
        "id": "usMtmX0cbsUh"
      },
      "outputs": [],
      "source": [
        "# Lakukan prediksi pada data pengujian\n",
        "y_pred = rf_classifier.predict(X_test)\n",
        "\n",
        "# Evaluasi model\n",
        "recall = recall_score(y_test, y_pred)\n",
        "print(f\"Recall Test: {recall}\")"
      ]
    },
    {
      "cell_type": "code",
      "execution_count": null,
      "metadata": {
        "id": "-9KtHmxPltzh"
      },
      "outputs": [],
      "source": [
        "# Lakukan prediksi pada data pengujian\n",
        "y_pred = rf_classifier.predict(X_test)\n",
        "\n",
        "# Evaluasi model\n",
        "roc_auc = roc_auc_score(y_test, y_pred)\n",
        "print(f\"roc_auc Test: {roc_auc}\")"
      ]
    },
    {
      "cell_type": "markdown",
      "metadata": {
        "id": "u8eFRjPfjNTp"
      },
      "source": [
        "### Save Model"
      ]
    },
    {
      "cell_type": "code",
      "execution_count": null,
      "metadata": {
        "id": "DnQDEd3j23sF"
      },
      "outputs": [],
      "source": [
        "import joblib"
      ]
    },
    {
      "cell_type": "code",
      "execution_count": null,
      "metadata": {
        "id": "03gP88kD27AQ"
      },
      "outputs": [],
      "source": [
        "model_filename = '/content/drive/MyDrive/2. Mechine Learning/Kelas ML/PROJECT/FINAL Project: Smoker Detector/Model/Smoker_RF.joblib'\n",
        "joblib.dump(rf_classifier, model_filename)\n",
        "print(f\"Model disimpan di: {model_filename}\")"
      ]
    },
    {
      "cell_type": "markdown",
      "metadata": {
        "id": "sc2FmVhh3wo7"
      },
      "source": [
        "### Feature Importance"
      ]
    },
    {
      "cell_type": "code",
      "execution_count": null,
      "metadata": {
        "id": "rZC8LfJu3zCh"
      },
      "outputs": [],
      "source": [
        "# Feature Importance\n",
        "feature_importances = rf_classifier.feature_importances_\n",
        "feature_names = X_train.columns\n",
        "\n",
        "# Buat DataFrame untuk visualisasi\n",
        "feature_importance_df = pd.DataFrame({'Feature': feature_names, 'Importance': feature_importances})\n",
        "feature_importance_df = feature_importance_df.sort_values(by='Importance', ascending=False)\n",
        "\n",
        "# Plot feature importances\n",
        "plt.figure(figsize=(10, 9))\n",
        "sns.barplot(x='Importance', y='Feature', data=feature_importance_df)\n",
        "plt.title('Feature Importance')\n",
        "plt.xlabel('Importance')\n",
        "plt.ylabel('Feature')\n",
        "plt.show()"
      ]
    },
    {
      "cell_type": "markdown",
      "metadata": {
        "id": "4J0Fj8bvoC0k"
      },
      "source": [
        "## AdaBOOST"
      ]
    },
    {
      "cell_type": "code",
      "execution_count": null,
      "metadata": {
        "id": "XI5Csxtoo6A_"
      },
      "outputs": [],
      "source": [
        "# import adaboostclassifier\n",
        "\n",
        "from sklearn.ensemble import AdaBoostClassifier"
      ]
    },
    {
      "cell_type": "markdown",
      "metadata": {
        "id": "TMzbk9hS4sWH"
      },
      "source": [
        "### Hyperparameter Tuning"
      ]
    },
    {
      "cell_type": "markdown",
      "metadata": {
        "id": "Kf6M3yPN4304"
      },
      "source": [
        "####Plotting Error_Rate Vs N Estimator"
      ]
    },
    {
      "cell_type": "code",
      "execution_count": null,
      "metadata": {
        "id": "1zzJEw3w4-Sa"
      },
      "outputs": [],
      "source": [
        "error_rates = []\n",
        "\n",
        "for i in range(1,50):\n",
        "\n",
        "    model = AdaBoostClassifier(n_estimators = i)\n",
        "    model.fit(X_train,y_train)\n",
        "    ypred = model.predict(X_test)\n",
        "    accuracy = np.mean(ypred == y_test)\n",
        "    error = 1 - accuracy\n",
        "    error_rates.append(error)"
      ]
    },
    {
      "cell_type": "code",
      "execution_count": null,
      "metadata": {
        "id": "2U6a99FBpMQv"
      },
      "outputs": [],
      "source": [
        "#Plotting Error_Rate Vs Number of Estimators\n",
        "plt.figure(figsize = (12,8))\n",
        "plt.plot(range(1,50),error_rates, 'g', lw = 3, marker =\"^\", markersize = 10, markerfacecolor = \"m\")\n",
        "plt.xlabel('Number of Estimaters( Trees )',fontsize = 20)\n",
        "plt.ylabel('Errors',fontsize = 20)\n",
        "plt.show()"
      ]
    },
    {
      "cell_type": "markdown",
      "metadata": {
        "id": "QuOgX7g25Ked"
      },
      "source": [
        "####Plotting Error_Rate Vs Learning Rate"
      ]
    },
    {
      "cell_type": "code",
      "execution_count": null,
      "metadata": {
        "id": "LfzhC5mn5FQR"
      },
      "outputs": [],
      "source": [
        "error_rates = []\n",
        "\n",
        "for i in [0.0001,0.0001,0.001,0.01,0.1,1,1.1,1.2,1.3,1.4,1.5]:\n",
        "\n",
        "    model = AdaBoostClassifier(learning_rate= i)\n",
        "    model.fit(X_train,y_train)\n",
        "    ypred = model.predict(X_test)\n",
        "    accuracy = np.mean(ypred == y_test)\n",
        "    error = 1 - accuracy\n",
        "    error_rates.append(error)"
      ]
    },
    {
      "cell_type": "code",
      "execution_count": null,
      "metadata": {
        "id": "TMJ3_Kww5vub"
      },
      "outputs": [],
      "source": [
        "#Plotting Error and Learning Rate\n",
        "plt.figure(figsize = (12,8))\n",
        "plt.plot([0.0001,0.0001,0.001,0.01,0.1,1,1.1,1.2,1.3,1.4,1.5],error_rates, 'g', lw = 3, marker =\"^\", markersize = 10, markerfacecolor = \"m\")\n",
        "plt.xlabel('Learning Rate',fontsize = 20)\n",
        "plt.ylabel('Errors',fontsize = 20)\n",
        "plt.show()"
      ]
    },
    {
      "cell_type": "markdown",
      "metadata": {
        "id": "LmTXmUo85c0b"
      },
      "source": [
        "####Estimating Number of Max Depth\n",
        "\n"
      ]
    },
    {
      "cell_type": "code",
      "execution_count": null,
      "metadata": {
        "id": "A0E-Qe3a5_mB"
      },
      "outputs": [],
      "source": [
        "from sklearn.tree import DecisionTreeClassifier\n",
        "\n",
        "error_rates = []\n",
        "\n",
        "for i in (1,5,10, 15, 20, 25, 30, 35, 40, 45, 50):\n",
        "    dt = DecisionTreeClassifier(random_state=42,max_depth = i)\n",
        "    model = AdaBoostClassifier(estimator=dt)\n",
        "    model.fit(X_train,y_train)\n",
        "    ypred = model.predict(X_test)\n",
        "    accuracy = np.mean(ypred == y_test)\n",
        "    error = 1 - accuracy\n",
        "    error_rates.append(error)"
      ]
    },
    {
      "cell_type": "code",
      "execution_count": null,
      "metadata": {
        "id": "yBkW6-Yc6Fqc"
      },
      "outputs": [],
      "source": [
        "#Plotting Error vs Max Depth\n",
        "\n",
        "plt.figure(figsize=(12, 8))\n",
        "plt.plot((1,5,10, 15, 20, 25, 30, 35, 40, 45, 50), error_rates, 'g', lw=3, marker=\"^\", markersize=10, markerfacecolor=\"m\")\n",
        "plt.xlabel('Max Depth', fontsize=20)\n",
        "plt.ylabel('Errors', fontsize=20)\n",
        "plt.show()"
      ]
    },
    {
      "cell_type": "markdown",
      "metadata": {
        "id": "9DfUwcm16QsZ"
      },
      "source": [
        "#### Use The Lest error hyper parameter to be the range of hyperparameter tunning"
      ]
    },
    {
      "cell_type": "code",
      "execution_count": null,
      "metadata": {
        "id": "mkGqCeHc6QUZ"
      },
      "outputs": [],
      "source": [
        "'''from sklearn.model_selection import GridSearchCV\n",
        "from scipy.stats import uniform, randint'''\n",
        "from sklearn.ensemble import AdaBoostClassifier\n",
        "from sklearn.tree import DecisionTreeClassifier\n",
        "from sklearn.model_selection import GridSearchCV\n",
        "from sklearn.model_selection import cross_val_score\n",
        "import optuna"
      ]
    },
    {
      "cell_type": "code",
      "execution_count": null,
      "metadata": {
        "id": "KXqpHovSs0Cb"
      },
      "outputs": [],
      "source": [
        "def objective(trial):\n",
        "\n",
        "    n_estimators = trial.suggest_categorical('n_estimators',[48, 49, 50] ) # Rentang integer dari 43 hingga 49\n",
        "    learning_rate = trial.suggest_categorical('learning_rate', [1.3, 1.4, 1.5])\n",
        "    estimator_max_depth = trial.suggest_categorical('estimator_max_depth', [20, 35]) # Rentang integer dari 5 hingga 30\n",
        "    base_estimator = DecisionTreeClassifier(max_depth=estimator_max_depth, random_state=42)\n",
        "\n",
        "\n",
        "    adaboost_classifier = AdaBoostClassifier(\n",
        "        estimator=base_estimator, # Teruskan instance base_estimator yang sudah dibuat\n",
        "        n_estimators=n_estimators,\n",
        "        learning_rate=learning_rate,\n",
        "        random_state=42\n",
        "    )\n",
        "\n",
        "\n",
        "    score = cross_val_score(adaboost_classifier, X_train, y_train, cv=5, scoring='accuracy', n_jobs=-1)\n",
        "\n",
        "    return score.mean() # Mengembalikan rata-rata akurasi dari cross-validation\n",
        "\n",
        "\n",
        "# Membuat dan Menjalankan Studi Optuna\n",
        "study = optuna.create_study(direction='maximize', sampler=optuna.samplers.TPESampler(seed=42)) # Menambahkan seed untuk reproduktifitas\n",
        "print(\"Memulai optimasi hyperparameter dengan Optuna...\")\n",
        "study.optimize(objective, n_trials=18, show_progress_bar=True)\n",
        "\n",
        "# Dapatkan parameter terbaik dari Optuna\n",
        "best_params = study.best_params\n",
        "print(\"\\nParameter terbaik yang ditemukan oleh Optuna:\")\n",
        "print(best_params)\n",
        "\n",
        "# Dapatkan skor terbaik\n",
        "print(\"Skor akurasi terbaik (rata-rata cross-validation):\")\n",
        "print(study.best_value)\n",
        "\n",
        "# Bangun ulang model terbaik dengan parameter yang ditemukan Optuna\n",
        "best_base_estimator = DecisionTreeClassifier(\n",
        "    max_depth=best_params['estimator_max_depth'],\n",
        "    random_state=42\n",
        ")\n",
        "best_adaboost_model = AdaBoostClassifier(\n",
        "    estimator=best_base_estimator,\n",
        "    n_estimators=best_params['n_estimators'],\n",
        "    learning_rate=best_params['learning_rate'],\n",
        "    random_state=42\n",
        ")\n",
        "\n",
        "# Latih model terbaik pada seluruh data pelatihan (X_train, y_train)\n",
        "best_adaboost_model.fit(X_train, y_train)\n",
        "print(\"\\nModel AdaBoost terbaik telah dilatih menggunakan parameter Optuna.\")"
      ]
    },
    {
      "cell_type": "markdown",
      "metadata": {
        "id": "iCqJKCXJ6zWR"
      },
      "source": [
        "###Modelling Data"
      ]
    },
    {
      "cell_type": "code",
      "execution_count": null,
      "metadata": {
        "id": "oClzc-ik6-7C"
      },
      "outputs": [],
      "source": [
        "model_filename = '/content/drive/MyDrive/2. Mechine Learning/Kelas ML/PROJECT/FINAL Project: Smoker Detector/Model/Smoker_AdaBoost.joblib' #ganti model_fraud dengan nama model yang diinginkan\n",
        "joblib.dump(best_adaboost_model, model_filename)\n",
        "print(f\"Model disimpan di: {model_filename}\")"
      ]
    },
    {
      "cell_type": "markdown",
      "metadata": {
        "id": "SeVqYh_mxEGs"
      },
      "source": [
        "#### ROC- AUC"
      ]
    },
    {
      "cell_type": "code",
      "execution_count": null,
      "metadata": {
        "id": "Q7M2YOgUxHMx"
      },
      "outputs": [],
      "source": [
        "# 3. Dapatkan Probabilitas Prediksi untuk Data Uji\n",
        "y_pred_proba =best_adaboost_model.predict_proba(X_test)[:, 1]  # Probabilitas kelas 1\n",
        "\n",
        "# 4. Hitung FPR, TPR, dan Threshold\n",
        "fpr, tpr, thresholds = roc_curve(y_test, y_pred_proba)\n",
        "\n",
        "# 5. Hitung AUC\n",
        "auc = roc_auc_score(y_test, y_pred_proba)\n",
        "\n",
        "# 6. Plot Kurva ROC\n",
        "plt.figure(figsize=(8, 8))\n",
        "plt.plot(fpr, tpr, color='darkorange', lw=2, label=f'ROC curve (AUC = {auc:.2f})')\n",
        "plt.plot([0, 1], [0, 1], color='navy', lw=2, linestyle='--')  # Garis acak\n",
        "plt.xlim([0.0, 1.0])\n",
        "plt.ylim([0.0, 1.05])\n",
        "plt.xlabel('False Positive Rate (FPR)')\n",
        "plt.ylabel('True Positive Rate (TPR)')\n",
        "plt.title('Receiver Operating Characteristic (ROC)')\n",
        "plt.legend(loc=\"lower right\")\n",
        "plt.show()"
      ]
    },
    {
      "cell_type": "markdown",
      "metadata": {
        "id": "FN5T0p7Uxc_V"
      },
      "source": [
        "### Confusion Matrix"
      ]
    },
    {
      "cell_type": "code",
      "execution_count": null,
      "metadata": {
        "id": "cA1WIAhgxgSB"
      },
      "outputs": [],
      "source": [
        "from sklearn.metrics import ConfusionMatrixDisplay"
      ]
    },
    {
      "cell_type": "code",
      "execution_count": null,
      "metadata": {
        "id": "1fTQCOkHxlZ_"
      },
      "outputs": [],
      "source": [
        "# Lakukan prediksi pada data pengujian\n",
        "y_pred = best_adaboost_model.predict(X_test)\n",
        "\n",
        "# Evaluasi model\n",
        "accuracy = accuracy_score(y_test, y_pred)\n",
        "print(f\"Akurasi Test: {accuracy}\")"
      ]
    },
    {
      "cell_type": "code",
      "execution_count": null,
      "metadata": {
        "id": "MFTMWH_KxlLm"
      },
      "outputs": [],
      "source": [
        "# Print classification report (precision, recall, f1-score)\n",
        "print(\"Classification Report Logistic Regression:\\n\", classification_report(y_test, y_pred))\n",
        "print('---------------------------------------------------')\n",
        "# Confusion matrix to understand true positives, false positives, etc.\n",
        "cm = confusion_matrix(y_test, y_pred)\n",
        "cm_df = pd.DataFrame(cm, index=['Actual Non-Smoker', 'Actual Smoker'], columns=['Predicted Non-Smoker', 'Predicted Smoker'])\n",
        "print(\"Confusion Matrix:\\n\", cm_df )\n",
        "print('---------------------------------------------------')"
      ]
    },
    {
      "cell_type": "code",
      "execution_count": null,
      "metadata": {
        "id": "AVFhgR6Axk9G"
      },
      "outputs": [],
      "source": [
        "# 5. Hitung Metrik Evaluasi\n",
        "accuracy = accuracy_score(y_test, y_pred)\n",
        "precision = precision_score(y_test, y_pred)\n",
        "recall = recall_score(y_test, y_pred)\n",
        "f1 = f1_score(y_test, y_pred)\n",
        "\n",
        "# 6. Visualisasikan Confusion Matrix\n",
        "plt.figure(figsize=(8, 6))\n",
        "\n",
        "heatmap = sns.heatmap(cm, annot=True, fmt='d', cmap='Blues',\n",
        "            xticklabels=['Non-Smoker', 'Smoker'],\n",
        "            yticklabels=['Non-Smoker', 'Smoker'])\n",
        "plt.xlabel('Predicted')\n",
        "plt.ylabel('Actual')\n",
        "plt.title('Confusion Matrix')\n",
        "plt.text(0.05, -0.2, f'Accuracy: {accuracy:.2%}', fontsize=10)\n",
        "plt.text(0.05, -0.3, f'Precision: {precision:.2%}', fontsize=10)\n",
        "plt.text(0.05, -0.4, f'Recall: {recall:.2%}', fontsize=10)\n",
        "plt.text(0.05, -0.5, f'F1-Score: {f1:.2%}', fontsize=10)\n",
        "plt.show()"
      ]
    },
    {
      "cell_type": "code",
      "execution_count": null,
      "metadata": {
        "id": "1iMLwKQQ7L2C"
      },
      "outputs": [],
      "source": [
        "# Predict on the validation set\n",
        "y_pred =best_adaboost_model.predict(X_test)\n",
        "\n",
        "# Predict probabilities for ROC-AUC evaluation\n",
        "y_pred_prob = best_adaboost_model.predict_proba(X_test)[:, 1]"
      ]
    },
    {
      "cell_type": "code",
      "execution_count": null,
      "metadata": {
        "id": "dtLFN12B7QXr"
      },
      "outputs": [],
      "source": [
        "# Evaluasi model\n",
        "accuracy = accuracy_score(y_test, y_pred)\n",
        "print(f\"Akurasi Validation: {accuracy}\")"
      ]
    },
    {
      "cell_type": "markdown",
      "metadata": {
        "id": "NWj4G4hu7aCo"
      },
      "source": [
        "### Evaluation Matrix"
      ]
    },
    {
      "cell_type": "code",
      "execution_count": null,
      "metadata": {
        "id": "VlzYuf5o7v86"
      },
      "outputs": [],
      "source": [
        "# Lakukan prediksi pada data pengujian\n",
        "y_pred = best_adaboost_model.predict(X_test)\n",
        "\n",
        "# Evaluasi model\n",
        "recall = recall_score(y_test, y_pred)\n",
        "print(f\"Recall Test: {recall}\")"
      ]
    },
    {
      "cell_type": "code",
      "execution_count": null,
      "metadata": {
        "id": "nDw5tKlXyoIZ"
      },
      "outputs": [],
      "source": [
        "# Lakukan prediksi pada data pengujian\n",
        "y_pred = best_adaboost_model.predict(X_test)\n",
        "\n",
        "# Evaluasi model\n",
        "roc_auc = roc_auc_score(y_test, y_pred)\n",
        "print(f\"roc_auc Test: {roc_auc}\")"
      ]
    },
    {
      "cell_type": "markdown",
      "metadata": {
        "id": "eFIIVxF-73bY"
      },
      "source": [
        "###Feature Importance"
      ]
    },
    {
      "cell_type": "code",
      "execution_count": null,
      "metadata": {
        "id": "9Nrgawl375s7"
      },
      "outputs": [],
      "source": [
        "# Feature Importance\n",
        "feature_importances = best_adaboost_model.feature_importances_\n",
        "feature_names = X_train.columns\n",
        "\n",
        "# Buat DataFrame untuk visualisasi\n",
        "feature_importance_df = pd.DataFrame({'Feature': feature_names, 'Importance': feature_importances})\n",
        "feature_importance_df = feature_importance_df.sort_values(by='Importance', ascending=False)\n",
        "\n",
        "# Plot feature importances\n",
        "plt.figure(figsize=(10, 9))\n",
        "sns.barplot(x='Importance', y='Feature', data=feature_importance_df)\n",
        "plt.title('Feature Importance')\n",
        "plt.xlabel('Importance')\n",
        "plt.ylabel('Feature')\n",
        "plt.show()"
      ]
    },
    {
      "cell_type": "markdown",
      "metadata": {
        "id": "A5pclra-8FRi"
      },
      "source": [
        "## Neural Network"
      ]
    },
    {
      "cell_type": "code",
      "execution_count": null,
      "metadata": {
        "id": "BtBcPWCk1QUN"
      },
      "outputs": [],
      "source": [
        "# Instalasi bayes_opt\n",
        "!pip install bayesian-optimization"
      ]
    },
    {
      "cell_type": "code",
      "execution_count": null,
      "metadata": {
        "id": "XgAdaWxr8JqC"
      },
      "outputs": [],
      "source": [
        "import tensorflow as tf\n",
        "from sklearn.model_selection import train_test_split\n",
        "import random\n",
        "from sklearn.preprocessing import StandardScaler          # untuk transform data, normalisasi\n",
        "from bayes_opt import BayesianOptimization"
      ]
    },
    {
      "cell_type": "code",
      "execution_count": null,
      "metadata": {
        "id": "AwP7VrZk2sHs"
      },
      "outputs": [],
      "source": [
        "\n",
        "# Set random seeds for reproducibility, agar ngka random yang digenerate selalu sama\n",
        "np.random.seed(42)\n",
        "tf.random.set_seed(42)\n",
        "random.seed(42)\n",
        "\n",
        "# Define the neural network architecture\n",
        "def create_model(learning_rate, num_hidden_layers, num_neurons):\n",
        "    model = tf.keras.Sequential()\n",
        "    for i in range(num_hidden_layers):                                                # settingan untuk di hidden layer\n",
        "        model.add(tf.keras.layers.Dense(num_neurons, activation='tanh'))              # define fungis aktivasi yang di hidden layer\n",
        "    model.add(tf.keras.layers.Dense(1, activation='sigmoid'))                         # define fungsi aktivasi di layer output, ada 1 NEURON OUTPUT di lapisan output karena model prediksi klasifikasi biner. pakai SIGMOID\n",
        "    optimizer = tf.keras.optimizers.Adam(learning_rate=learning_rate)\n",
        "    model.compile(loss='binary_crossentropy', optimizer=optimizer, metrics=['accuracy'])\n",
        "    return model"
      ]
    },
    {
      "cell_type": "markdown",
      "metadata": {
        "id": "aUVyCfEn3k_a"
      },
      "source": [
        "- Set Random Seeds: Menetapkan seed acak untuk numpy, TensorFlow, dan random untuk memastikan bahwa hasil dari kode ini dapat direproduksi. Dengan menetapkan seed, Anda memastikan bahwa setiap kali kode ini dijalankan, hasilnya akan sama.\n",
        "\n",
        "- create_model Function: Fungsi ini digunakan untuk membuat model neural network dengan parameter yang dapat disesuaikan, yaitu learning_rate, num_hidden_layers, dan num_neurons. Menambahkan layer output dengan **1 neuron** dan menggunakan fungsi aktivasi sigmoid (0 - 1) untuk menghasilkan probabilitas\n",
        "\n",
        "- Optimizer: Menggunakan optimizer Adam\n",
        "\n",
        "- Menggunaka loss function binary_crossentropy yang sering digunakan dalam klasifikasi multi-kelas."
      ]
    },
    {
      "cell_type": "code",
      "execution_count": null,
      "metadata": {
        "id": "3g4KjMhu3b3h"
      },
      "outputs": [],
      "source": [
        "# Define the objective function to optimize\n",
        "def objective(learning_rate, num_hidden_layers, num_neurons):\n",
        "    model = create_model(learning_rate, int(num_hidden_layers), int(num_neurons))\n",
        "    model.fit(X_train, y_train, epochs=10, validation_data=(X_test, y_test), verbose=0)\n",
        "    val_loss, val_acc = model.evaluate(X_test, y_test, verbose=0)\n",
        "    return val_acc"
      ]
    },
    {
      "cell_type": "markdown",
      "metadata": {
        "id": "_KKrXWWF8Eyo"
      },
      "source": [
        "Mengevaluasi model pada data validasi X_test dan y_test untuk mendapatkan loss validasi (val_loss) dan akurasi validasi (val_acc). Parameter verbose=0 digunakan untuk menyembunyikan output evaluasi."
      ]
    },
    {
      "cell_type": "code",
      "execution_count": null,
      "metadata": {
        "id": "50CxisWK81RK"
      },
      "outputs": [],
      "source": [
        "# Define the search space for hyperparameters\n",
        "pbounds = {'learning_rate': (0.01, 0.1),  # atur rentang nilai yang ingin dicoba pemcoba renang nilai dari 0.01 dampai 0.1\n",
        "           'num_hidden_layers': (1, 3),  # nilainya harus rentang,\n",
        "           'num_neurons': (41, 52)}"
      ]
    },
    {
      "cell_type": "markdown",
      "metadata": {
        "id": "JHsgrTeyAMQq"
      },
      "source": [
        "Bayes Optimization mengharuskan kita memasukkan nilai rentang,\n",
        "\n",
        "- tidak bisa hanya 1 nilai,\n",
        "- tidak bisa 3 nilai\n",
        "- harus menulis nilai max dan nilai min pencarian\n",
        "- batas bawah harus lebih kecil dari batas atas"
      ]
    },
    {
      "cell_type": "code",
      "execution_count": null,
      "metadata": {
        "id": "apLnRq_t-Teb"
      },
      "outputs": [],
      "source": [
        "# Perform Bayesian optimization\n",
        "optimizer = BayesianOptimization(f=objective, pbounds=pbounds, verbose=2)\n",
        "optimizer.maximize(init_points=5, n_iter=20)"
      ]
    },
    {
      "cell_type": "code",
      "execution_count": null,
      "metadata": {
        "id": "_sTuvi4nIbgG"
      },
      "outputs": [],
      "source": [
        "# best hyper parameter:\n",
        "# learning rate: 0.0559860\n",
        "# num hidden layer: 1.3600370 ==> 1\n",
        "# num_neuron: 42.817543   => 43\n",
        "#fungsi aktifasi:"
      ]
    },
    {
      "cell_type": "markdown",
      "metadata": {
        "id": "rt3kMPZqK20C"
      },
      "source": [
        "Use The Best Hyperparameter"
      ]
    },
    {
      "cell_type": "code",
      "execution_count": null,
      "metadata": {
        "id": "_Z98NHjRLMRg"
      },
      "outputs": [],
      "source": [
        "# set random seed for reproductifity\n",
        "np.random.seed(42)          #.seed, akan membuat angka random yg dihasilkan tetap sama pada library numpy\n",
        "tf.random.set_seed(42)      #.set_seed, akn menghasilkan angka random yang sama pada tensor flow\n",
        "random.seed(42)             #.seed, akan membuat angka random yg dihasilkan oleh library random\n",
        "\n",
        "from keras.models import Sequential  # import kelas Sequential dari modul models dari library keras\n",
        "# Kelas ini digunakan untuk membangun model deep learning yang memiliki struktur lapisan (layer)\n",
        "# yang berurutan, atau sering disebut sebagai neural network feedforward.\n",
        "from keras.layers import Dense  #untuk mengimpor fungsi Dense dari modul layers dalam library Keras.\n",
        "# layers, berisi berbagai macam lapisan (layer) yang dapat digunakan untuk membangun arsitektur model neural network.\n",
        "# Dense ,fungsi untuk membuat lapisan dense (fully connected) dalam model neural network. Lapisan dense menghubungkan setiap neuron pada lapisan sebelumnya dengan setiap neuron pada lapisan selanjutnya.\n"
      ]
    },
    {
      "cell_type": "code",
      "source": [
        "from keras.optimizers import Adam"
      ],
      "metadata": {
        "id": "V_GxNaKDqtF7"
      },
      "execution_count": null,
      "outputs": []
    },
    {
      "cell_type": "code",
      "execution_count": null,
      "metadata": {
        "id": "U-0iEaBWIeJf"
      },
      "outputs": [],
      "source": [
        "model = Sequential()\n",
        "model.add(Dense(43, input_dim=41, activation='tanh'))\n",
        "#model.add(Dense(47, activation='tanh'))\n",
        "model.add(Dense(1, activation='sigmoid'))\n",
        "custom_adam = Adam(learning_rate=0.0559860)\n",
        "model.compile(optimizer=custom_adam, loss='binary_crossentropy', metrics=['accuracy'])"
      ]
    },
    {
      "cell_type": "code",
      "execution_count": null,
      "metadata": {
        "id": "w6s9HPJ2NJhj"
      },
      "outputs": [],
      "source": [
        "model.fit(X_train, y_train, epochs=20, batch_size=8)"
      ]
    },
    {
      "cell_type": "code",
      "execution_count": null,
      "metadata": {
        "id": "D00z87Gx9zOh"
      },
      "outputs": [],
      "source": [
        "import joblib\n",
        "#savemodel\n",
        "model_filename = '/content/drive/MyDrive/2. Mechine Learning/Kelas ML/PROJECT/FINAL Project: Smoker Detector/Model/Smoker_NN.joblib'\n",
        "joblib.dump(model, model_filename)"
      ]
    },
    {
      "cell_type": "code",
      "execution_count": null,
      "metadata": {
        "id": "VnzwEtT3Pmhp"
      },
      "outputs": [],
      "source": [
        "# Evaluasi model pada data test\n",
        "y_pred = model.predict(X_test)\n",
        "y_pred = (y_pred > 0.5).astype(int)\n",
        "accuracy_test = accuracy_score(y_test, y_pred)\n",
        "print(f\"akurasi pada data pengujian: {accuracy_test}\")"
      ]
    },
    {
      "cell_type": "code",
      "execution_count": null,
      "metadata": {
        "id": "5QJg-e5yQDsE"
      },
      "outputs": [],
      "source": [
        "# 5. Hitung Metrik Evaluasi\n",
        "accuracy = accuracy_score(y_test, y_pred)\n",
        "precision = precision_score(y_test, y_pred)\n",
        "recall = recall_score(y_test, y_pred)\n",
        "f1 = f1_score(y_test, y_pred)\n",
        "\n",
        "# 6. Visualisasikan Confusion Matrix\n",
        "plt.figure(figsize=(8, 6))\n",
        "\n",
        "heatmap = sns.heatmap(confusion_matrix(y_test, y_pred), annot=True, fmt='d', cmap='Blues',\n",
        "            xticklabels=['Non-Smoker', 'Smoker'],\n",
        "            yticklabels=['Non-Smoker', 'Smoker'])\n",
        "plt.xlabel('Predicted')\n",
        "plt.ylabel('Actual')\n",
        "plt.title('Confusion Matrix')\n",
        "plt.text(0.05, -0.2, f'Accuracy: {accuracy:.2%}', fontsize=10)\n",
        "plt.text(0.05, -0.3, f'Precision: {precision:.2%}', fontsize=10)\n",
        "plt.text(0.05, -0.4, f'Recall: {recall:.2%}', fontsize=10)\n",
        "plt.text(0.05, -0.5, f'F1-Score: {f1:.2%}', fontsize=10)\n",
        "plt.show()"
      ]
    },
    {
      "cell_type": "code",
      "execution_count": null,
      "metadata": {
        "id": "KRIe9OkyTa1a"
      },
      "outputs": [],
      "source": [
        "# 3. Dapatkan Probabilitas Prediksi untuk Data Uji\n",
        "# model.predict() dengan layer output single neuron dan sigmoid akan menghasilkan probabilitas untuk kelas positif (kelas 1)\n",
        "y_pred_proba = model.predict(X_test)\n",
        "\n",
        "# Jika outputnya 2D dengan 1 kolom, kita bisa meratakannya menjadi 1D\n",
        "if y_pred_proba.shape[1] == 1:\n",
        "    y_pred_proba = y_pred_proba.flatten()\n",
        "\n",
        "# 4. Hitung FPR, TPR, dan Threshold\n",
        "fpr, tpr, thresholds = roc_curve(y_test, y_pred_proba)\n",
        "\n",
        "# 5. Hitung AUC\n",
        "auc = roc_auc_score(y_test, y_pred_proba)\n",
        "\n",
        "# 6. Plot Kurva ROC\n",
        "plt.figure(figsize=(8, 8))\n",
        "plt.plot(fpr, tpr, color='darkorange', lw=2, label=f'ROC curve (AUC = {auc:.2f})')\n",
        "plt.plot([0, 1], [0, 1], color='navy', lw=2, linestyle='--')  # Garis acak\n",
        "plt.xlim([0.0, 1.0])\n",
        "plt.ylim([0.0, 1.05])\n",
        "plt.xlabel('False Positive Rate (FPR)')\n",
        "plt.ylabel('True Positive Rate (TPR)')\n",
        "plt.title('Receiver Operating Characteristic (ROC)')\n",
        "plt.legend(loc=\"lower right\")\n",
        "plt.show()"
      ]
    },
    {
      "cell_type": "markdown",
      "source": [
        "# Conclution\n",
        "The best model is Neural Network because it can predict the most smoker in the data\n",
        "\n",
        "LogReg:\n",
        "* F1 score: 72.92%\n",
        "* Recall\t: 75.62%\n",
        "* Precission: 70.40%\n",
        "* Accuracy: 75.53%\n",
        "\n",
        "RandomForest:\n",
        "* F1 score: 76.37%\n",
        "* Recall\t: 81.65%\n",
        "* Precission: 71.79%\n",
        "* Accuracy: 78.01%\n",
        "\n",
        "AdaBoost:\n",
        "* F1 score: 74.25%\n",
        "* Recall\t: 77.65%\n",
        "* Precission: 71.13%\n",
        "* Accuracy: 76.53%\n",
        "\n",
        "NN:\n",
        "* F1 score: 75.59%\n",
        "* **Recall\t: 96.60%**\n",
        "* Precission: 62.08%\n",
        "* Accuracy: 72.82%"
      ],
      "metadata": {
        "id": "TRljTi5HGXxB"
      }
    }
  ],
  "metadata": {
    "colab": {
      "provenance": [],
      "toc_visible": true,
      "mount_file_id": "1E7ScnIPs0x3kpCcQa0zl9kbgjJ-vRf_d",
      "authorship_tag": "ABX9TyO2Cbszk4E50H6yMHPF6u8+",
      "include_colab_link": true
    },
    "kernelspec": {
      "display_name": "Python 3",
      "name": "python3"
    },
    "language_info": {
      "name": "python"
    }
  },
  "nbformat": 4,
  "nbformat_minor": 0
}